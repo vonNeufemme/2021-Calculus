{
  "nbformat": 4,
  "nbformat_minor": 0,
  "metadata": {
    "colab": {
      "name": "CALC I 0.ipynb",
      "provenance": [],
      "collapsed_sections": [
        "rCy0frQ5loyc",
        "GlNNwHIKsnds"
      ]
    },
    "kernelspec": {
      "name": "python3",
      "display_name": "Python 3"
    },
    "language_info": {
      "name": "python"
    }
  },
  "cells": [
    {
      "cell_type": "markdown",
      "metadata": {
        "id": "o7UhjTdulcvr"
      },
      "source": [
        "# 2. Limits\n"
      ]
    },
    {
      "cell_type": "code",
      "metadata": {
        "id": "ZmQhXJrUl5n1"
      },
      "source": [
        "import torch\n",
        "import numpy as np\n",
        "import matplotlib.pyplot as plt\n",
        "\n",
        "def plot_graph(x, y, xlimits=None, ylimits=None):\n",
        "  fig, ax = plt.subplots()\n",
        "  plt.axvline(x=0, color='lightgray')\n",
        "  plt.axhline(y=0, color='lightgray')\n",
        "  if (xlimits == None and ylimits == None):\n",
        "    plt.xlim(np.min(x), np.max(x))\n",
        "    plt.ylim(np.min(y), np.max(y))\n",
        "  if (xlimits):\n",
        "    plt.xlim(xlimits[0], xlimits[1])\n",
        "  if (ylimits):\n",
        "    plt.ylim(ylimits[0], ylimits[1])\n",
        "  _ = ax.plot(x, y)"
      ],
      "execution_count": 151,
      "outputs": []
    },
    {
      "cell_type": "markdown",
      "metadata": {
        "id": "IfIRf1EkllW8"
      },
      "source": [
        "## 2.1 Continuous versus Discontinuous Functions\n",
        "\n",
        "Easy to calculate for a continuous function.   \n",
        "What is the liimt as x approaches 5 in the expression $2x^2 + 2x + 2$?"
      ]
    },
    {
      "cell_type": "code",
      "metadata": {
        "id": "FQFeD6MmlVNa"
      },
      "source": [
        "x = np.linspace(-100 , 100, 10000)\n",
        "y = x**2 + 2*x + 2"
      ],
      "execution_count": 86,
      "outputs": []
    },
    {
      "cell_type": "code",
      "metadata": {
        "colab": {
          "base_uri": "https://localhost:8080/"
        },
        "id": "Eq4Tiqmllp50",
        "outputId": "370ccc31-870f-46f6-cb28-1cf956211fae"
      },
      "source": [
        "def get_limit(x):\n",
        "  limit = x**2 + 2*x + 2\n",
        "  return limit\n",
        "\n",
        "get_limit(5)"
      ],
      "execution_count": 87,
      "outputs": [
        {
          "output_type": "execute_result",
          "data": {
            "text/plain": [
              "37"
            ]
          },
          "metadata": {},
          "execution_count": 87
        }
      ]
    },
    {
      "cell_type": "code",
      "metadata": {
        "colab": {
          "base_uri": "https://localhost:8080/",
          "height": 286
        },
        "id": "SaflPzLcm1rd",
        "outputId": "460d03f2-2a49-4007-e79e-81efd434f532"
      },
      "source": [
        "point_x = 5\n",
        "point_y = get_limit(point)\n",
        "\n",
        "fig, ax = plt.subplots()\n",
        "\n",
        "ax.scatter(point_x, point_y, s=20, c='red', label=f'{point_x}, {point_y}')\n",
        "ax.plot(x, y)\n",
        "ax.axvline(point_x, c='orange', linestyle='--')\n",
        "ax.axhline(point_y, c='orange', linestyle='--')\n",
        "ax.set_xlim(-5, 10)\n",
        "ax.set_ylim(-10, 80)\n",
        "ax.legend()"
      ],
      "execution_count": 88,
      "outputs": [
        {
          "output_type": "execute_result",
          "data": {
            "text/plain": [
              "<matplotlib.legend.Legend at 0x7f3e14617790>"
            ]
          },
          "metadata": {},
          "execution_count": 88
        },
        {
          "output_type": "display_data",
          "data": {
            "image/png": "[encoded data removed]",
            "text/plain": [
              "<Figure size 432x288 with 1 Axes>"
            ]
          },
          "metadata": {
            "needs_background": "light"
          }
        }
      ]
    },
    {
      "cell_type": "markdown",
      "metadata": {
        "id": "631mp0EXpzH8"
      },
      "source": [
        "However, some functions are not continuous. \n",
        "$$lim_{x \\rightarrow 1} \\frac{x^2-1}{x-1}$$"
      ]
    },
    {
      "cell_type": "code",
      "metadata": {
        "id": "HegDLj8jlp3K"
      },
      "source": [
        "def my_function(my_x):\n",
        "  my_y = (my_x**2 - 1)/(my_x - 1)\n",
        "  return my_y"
      ],
      "execution_count": 89,
      "outputs": []
    },
    {
      "cell_type": "code",
      "metadata": {
        "colab": {
          "base_uri": "https://localhost:8080/",
          "height": 265
        },
        "id": "45tu44yulpz7",
        "outputId": "e9398482-70f0-4363-a279-cf1010d9906c"
      },
      "source": [
        "## Uncommenting the following line results in a 'division by zero' error.\n",
        "my_function(1)"
      ],
      "execution_count": 90,
      "outputs": [
        {
          "output_type": "error",
          "ename": "ZeroDivisionError",
          "evalue": "ignored",
          "traceback": [
            "\u001b[0;31m---------------------------------------------------------------------------\u001b[0m",
            "\u001b[0;31mZeroDivisionError\u001b[0m                         Traceback (most recent call last)",
            "\u001b[0;32m<ipython-input-90-326942b26144>\u001b[0m in \u001b[0;36m<module>\u001b[0;34m()\u001b[0m\n\u001b[1;32m      1\u001b[0m \u001b[0;31m## Uncommenting the following line results in a 'division by zero' error.\u001b[0m\u001b[0;34m\u001b[0m\u001b[0;34m\u001b[0m\u001b[0;34m\u001b[0m\u001b[0m\n\u001b[0;32m----> 2\u001b[0;31m \u001b[0mmy_function\u001b[0m\u001b[0;34m(\u001b[0m\u001b[0;36m1\u001b[0m\u001b[0;34m)\u001b[0m\u001b[0;34m\u001b[0m\u001b[0;34m\u001b[0m\u001b[0m\n\u001b[0m",
            "\u001b[0;32m<ipython-input-89-79602f5a05dc>\u001b[0m in \u001b[0;36mmy_function\u001b[0;34m(my_x)\u001b[0m\n\u001b[1;32m      1\u001b[0m \u001b[0;32mdef\u001b[0m \u001b[0mmy_function\u001b[0m\u001b[0;34m(\u001b[0m\u001b[0mmy_x\u001b[0m\u001b[0;34m)\u001b[0m\u001b[0;34m:\u001b[0m\u001b[0;34m\u001b[0m\u001b[0;34m\u001b[0m\u001b[0m\n\u001b[0;32m----> 2\u001b[0;31m   \u001b[0mmy_y\u001b[0m \u001b[0;34m=\u001b[0m \u001b[0;34m(\u001b[0m\u001b[0mmy_x\u001b[0m\u001b[0;34m**\u001b[0m\u001b[0;36m2\u001b[0m \u001b[0;34m-\u001b[0m \u001b[0;36m1\u001b[0m\u001b[0;34m)\u001b[0m\u001b[0;34m/\u001b[0m\u001b[0;34m(\u001b[0m\u001b[0mmy_x\u001b[0m \u001b[0;34m-\u001b[0m \u001b[0;36m1\u001b[0m\u001b[0;34m)\u001b[0m\u001b[0;34m\u001b[0m\u001b[0;34m\u001b[0m\u001b[0m\n\u001b[0m\u001b[1;32m      3\u001b[0m   \u001b[0;32mreturn\u001b[0m \u001b[0mmy_y\u001b[0m\u001b[0;34m\u001b[0m\u001b[0;34m\u001b[0m\u001b[0m\n",
            "\u001b[0;31mZeroDivisionError\u001b[0m: division by zero"
          ]
        }
      ]
    },
    {
      "cell_type": "code",
      "metadata": {
        "colab": {
          "base_uri": "https://localhost:8080/",
          "height": 265
        },
        "id": "RqWRzf7Ir4ws",
        "outputId": "503e3e7d-80ec-4e48-9b5b-5721badf0621"
      },
      "source": [
        "x = np.linspace(-10, 10, 1000)\n",
        "y = my_function(x)\n",
        "\n",
        "plot_graph(x, y)"
      ],
      "execution_count": 135,
      "outputs": [
        {
          "output_type": "display_data",
          "data": {
            "image/png": "[encoded data removed]",
            "text/plain": [
              "<Figure size 432x288 with 1 Axes>"
            ]
          },
          "metadata": {
            "needs_background": "light"
          }
        }
      ]
    },
    {
      "cell_type": "code",
      "metadata": {
        "colab": {
          "base_uri": "https://localhost:8080/"
        },
        "id": "a73n0MT2tMlR",
        "outputId": "b2125ae0-5b1f-47ba-d1fd-e0f0120f3962"
      },
      "source": [
        "x_points = [0.9,  0.99, 0.999, 1.0001, 1.001, 1.01]\n",
        "\n",
        "for point in x_points:\n",
        "  print(my_function(point))"
      ],
      "execution_count": 92,
      "outputs": [
        {
          "output_type": "stream",
          "name": "stdout",
          "text": [
            "1.9\n",
            "1.990000000000001\n",
            "1.9989999999999712\n",
            "2.0000999999993923\n",
            "2.0009999999999177\n",
            "2.009999999999999\n"
          ]
        }
      ]
    },
    {
      "cell_type": "code",
      "metadata": {
        "colab": {
          "base_uri": "https://localhost:8080/",
          "height": 282
        },
        "id": "kFxciq7Dt7FB",
        "outputId": "f40c6d3c-3b77-4520-f699-b50cbc92d233"
      },
      "source": [
        "x = np.linspace(-10, 10, 1000)\n",
        "y = my_function(x)\n",
        "\n",
        "plot_graph(x, y)\n",
        "plt.axvline(x=1, c='coral', linestyle='--')\n",
        "plt.axhline(y=2, c='coral', linestyle='--')"
      ],
      "execution_count": 136,
      "outputs": [
        {
          "output_type": "execute_result",
          "data": {
            "text/plain": [
              "<matplotlib.lines.Line2D at 0x7f3e13f93490>"
            ]
          },
          "metadata": {},
          "execution_count": 136
        },
        {
          "output_type": "display_data",
          "data": {
            "image/png": "[encoded data removed]",
            "text/plain": [
              "<Figure size 432x288 with 1 Axes>"
            ]
          },
          "metadata": {
            "needs_background": "light"
          }
        }
      ]
    },
    {
      "cell_type": "markdown",
      "metadata": {
        "id": "rCy0frQ5loyc"
      },
      "source": [
        "## 2.2 Solving via Factoring\n",
        "\n",
        "$$lim_{x \\rightarrow 1} \\frac{x^2-1}{x-1}$$  \n",
        "\n",
        "$$lim_{x \\rightarrow 1} \\frac{(x-1)(x+1)}{(x-1)}$$  \n",
        "\n",
        "$$lim_{x \\rightarrow 1}(x+1)$$  \n",
        "= 1 + 1\n"
      ]
    },
    {
      "cell_type": "markdown",
      "metadata": {
        "id": "GlNNwHIKsnds"
      },
      "source": [
        "## 2.3 Solving via Approaching\n",
        "\n",
        "- But there are some cases where factoring doesn't work."
      ]
    },
    {
      "cell_type": "markdown",
      "metadata": {
        "id": "wl8q0DteyiIi"
      },
      "source": [
        "## 2.4 Approaching Infinity"
      ]
    },
    {
      "cell_type": "code",
      "metadata": {
        "colab": {
          "base_uri": "https://localhost:8080/"
        },
        "id": "0Rf6IHDaxzO-",
        "outputId": "6979293e-c3d3-4039-ab27-98c220362c61"
      },
      "source": [
        "def inf_function(my_x):\n",
        "  my_y = 25/my_x\n",
        "  return my_y\n",
        "\n",
        "inf_function(1e3), inf_function(1e6)  # 2.5e-05 two point five times ten to the negative five =>> veeery close to zero."
      ],
      "execution_count": 155,
      "outputs": [
        {
          "output_type": "execute_result",
          "data": {
            "text/plain": [
              "(0.025, 2.5e-05)"
            ]
          },
          "metadata": {},
          "execution_count": 155
        }
      ]
    },
    {
      "cell_type": "code",
      "metadata": {
        "colab": {
          "base_uri": "https://localhost:8080/",
          "height": 269
        },
        "id": "E_mQ7ugksrbU",
        "outputId": "16f81ac2-3679-4d31-fdf9-054506fda241"
      },
      "source": [
        "x = np.linspace(-10, 10, 1000)\n",
        "y = inf_function(x)\n",
        "\n",
        "plot_graph(x, y, xlimits=(-2, 2), ylimits=(-1000, 1000))"
      ],
      "execution_count": 153,
      "outputs": [
        {
          "output_type": "display_data",
          "data": {
            "image/png": "[encoded data removed]",
            "text/plain": [
              "<Figure size 432x288 with 1 Axes>"
            ]
          },
          "metadata": {
            "needs_background": "light"
          }
        }
      ]
    },
    {
      "cell_type": "markdown",
      "metadata": {
        "id": "bmKxO-E8sp6h"
      },
      "source": [
        "## 2.5 Exercises\n",
        "\n",
        "Evaluate the limits below using techniques from the slides or above.\n",
        "\n",
        "$$ \\lim_{x \\to 0} \\frac{x^2-1}{x-1} $$\n",
        "$$ \\lim_{x \\to -5} \\frac{x^2-25}{x+5} $$\n",
        "$$ \\lim_{x \\to 4} \\frac{x^2 -2x -8}{x-4} $$\n",
        "$$ \\lim_{x \\to -\\infty} \\frac{25}{x} $$\n",
        "$$ \\lim_{x \\to 0} \\frac{25}{x} $$"
      ]
    },
    {
      "cell_type": "code",
      "metadata": {
        "colab": {
          "base_uri": "https://localhost:8080/",
          "height": 265
        },
        "id": "nSVYGfnMsq2K",
        "outputId": "11389377-d07a-4e17-8c91-531b2d58ec1e"
      },
      "source": [
        "def lim1(x):\n",
        "  y = (x**2 - 1)/(x-1)\n",
        "  return y\n",
        "\n",
        "x = np.linspace(-10, 10, 10000)\n",
        "y = lim1(x)\n",
        "\n",
        "plot_graph(x, y)"
      ],
      "execution_count": 156,
      "outputs": [
        {
          "output_type": "display_data",
          "data": {
            "image/png": "[encoded data removed]",
            "text/plain": [
              "<Figure size 432x288 with 1 Axes>"
            ]
          },
          "metadata": {
            "needs_background": "light"
          }
        }
      ]
    },
    {
      "cell_type": "code",
      "metadata": {
        "colab": {
          "base_uri": "https://localhost:8080/",
          "height": 265
        },
        "id": "ENL7NzCWSRKt",
        "outputId": "0f60483a-abd1-4ea4-fca1-e35b1d6621c3"
      },
      "source": [
        "def lim2(x):\n",
        "  y = (x**2 - 25)/(x+5)\n",
        "  return y\n",
        "  \n",
        "plot_graph(x, y)"
      ],
      "execution_count": 157,
      "outputs": [
        {
          "output_type": "display_data",
          "data": {
            "image/png": "[encoded data removed]",
            "text/plain": [
              "<Figure size 432x288 with 1 Axes>"
            ]
          },
          "metadata": {
            "needs_background": "light"
          }
        }
      ]
    },
    {
      "cell_type": "code",
      "metadata": {
        "colab": {
          "base_uri": "https://localhost:8080/"
        },
        "id": "ziweGnQzSnxJ",
        "outputId": "aa6358c2-4e5a-4f4d-c7d3-797378445d15"
      },
      "source": [
        "def lim3(x):\n",
        "  y = (x**2 - 2*x -8)/(x-4)\n",
        "  return y\n",
        "\n",
        "lim3(3.999)"
      ],
      "execution_count": 105,
      "outputs": [
        {
          "output_type": "execute_result",
          "data": {
            "text/plain": [
              "5.999000000000748"
            ]
          },
          "metadata": {},
          "execution_count": 105
        }
      ]
    },
    {
      "cell_type": "code",
      "metadata": {
        "colab": {
          "base_uri": "https://localhost:8080/",
          "height": 286
        },
        "id": "EEgsuCXvS_xE",
        "outputId": "77cf571d-1703-412e-b823-42b6fcf76ac4"
      },
      "source": [
        "def lim4(x):\n",
        "  y = 25/x\n",
        "  return y\n",
        "\n",
        "print(lim4(np.inf), lim4(0.1))\n",
        "\n",
        "x = np.linspace(-10, 10, 10000)\n",
        "y = lim4(x)\n",
        "\n",
        "plot_graph(x, y, xlimits=(-2, 2), ylimits=(-1000,1000))"
      ],
      "execution_count": 159,
      "outputs": [
        {
          "output_type": "stream",
          "name": "stdout",
          "text": [
            "0.0 250.0\n"
          ]
        },
        {
          "output_type": "display_data",
          "data": {
            "image/png": "[encoded data removed]",
            "text/plain": [
              "<Figure size 432x288 with 1 Axes>"
            ]
          },
          "metadata": {
            "needs_background": "light"
          }
        }
      ]
    }
  ]
}