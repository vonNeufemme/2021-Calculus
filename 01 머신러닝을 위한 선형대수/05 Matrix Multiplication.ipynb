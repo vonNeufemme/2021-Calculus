{
  "nbformat": 4,
  "nbformat_minor": 0,
  "metadata": {
    "colab": {
      "name": "05 Matrix Multiplication.ipynb",
      "provenance": [],
      "collapsed_sections": [],
      "toc_visible": true
    },
    "kernelspec": {
      "name": "python3",
      "display_name": "Python 3"
    },
    "language_info": {
      "name": "python"
    }
  },
  "cells": [
    {
      "cell_type": "markdown",
      "metadata": {
        "id": "qHeOb3fTh-Xu"
      },
      "source": [
        "# Matrix Multiplication\n",
        "\n",
        "- $m[C] = m[A] * n[B]$\n",
        "- $C_i, _k = \\sum_{j} A_i,_jB_j, _k$"
      ]
    },
    {
      "cell_type": "code",
      "metadata": {
        "id": "D9pDB1y6kr5B"
      },
      "source": [
        "import numpy as np\n",
        "import matplotlib.pyplot as plt\n",
        "import torch\n",
        "import tensorflow as tf"
      ],
      "execution_count": null,
      "outputs": []
    },
    {
      "cell_type": "markdown",
      "metadata": {
        "id": "NKmqOXGFhxej"
      },
      "source": [
        "## 5.1 Matrix-by-Vector Multiplication\n",
        "- ```np.array A * np.array B```\n",
        "- ```np.dot(a, b)```\n",
        "- ```torch.matmul(a, b)```\n",
        "- ```tf.linalg.matvec(a, b)```"
      ]
    },
    {
      "cell_type": "code",
      "metadata": {
        "id": "t-5vM4fyhoB4"
      },
      "source": [
        "A = np.array([[3, 4], [5, 6], [7, 8]])\n",
        "B = np.array([1, 2])"
      ],
      "execution_count": null,
      "outputs": []
    },
    {
      "cell_type": "code",
      "metadata": {
        "colab": {
          "base_uri": "https://localhost:8080/"
        },
        "id": "O-sIvKXZkpNU",
        "outputId": "a79a5c88-fb06-46d8-f2d1-96e11453ba59"
      },
      "source": [
        "A * B"
      ],
      "execution_count": null,
      "outputs": [
        {
          "output_type": "execute_result",
          "data": {
            "text/plain": [
              "array([[ 3,  8],\n",
              "       [ 5, 12],\n",
              "       [ 7, 16]])"
            ]
          },
          "metadata": {},
          "execution_count": 5
        }
      ]
    },
    {
      "cell_type": "markdown",
      "metadata": {
        "id": "cUe0_WobmZiw"
      },
      "source": [
        "### NumPy"
      ]
    },
    {
      "cell_type": "code",
      "metadata": {
        "colab": {
          "base_uri": "https://localhost:8080/"
        },
        "id": "Fn8i91wAlYgX",
        "outputId": "c1e588ff-35ea-4271-835b-327ef3267876"
      },
      "source": [
        "ab_np = np.dot(A, B) # even though technically dot products are between vectors only\n",
        "ab_np"
      ],
      "execution_count": null,
      "outputs": [
        {
          "output_type": "execute_result",
          "data": {
            "text/plain": [
              "(array([11, 17, 23]), tensor([11, 17, 23]))"
            ]
          },
          "metadata": {},
          "execution_count": 9
        }
      ]
    },
    {
      "cell_type": "markdown",
      "metadata": {
        "id": "fFbORn6nmesU"
      },
      "source": [
        "### PyTorch"
      ]
    },
    {
      "cell_type": "code",
      "metadata": {
        "colab": {
          "base_uri": "https://localhost:8080/"
        },
        "id": "hLIzhqObmRlK",
        "outputId": "67bd7448-447b-4bda-c8be-33bf98225147"
      },
      "source": [
        "ab_pt = torch.matmul(torch.tensor(A), torch.tensor(B))\n",
        "ab_pt"
      ],
      "execution_count": null,
      "outputs": [
        {
          "output_type": "execute_result",
          "data": {
            "text/plain": [
              "tensor([11, 17, 23])"
            ]
          },
          "metadata": {},
          "execution_count": 10
        }
      ]
    },
    {
      "cell_type": "markdown",
      "metadata": {
        "id": "NGxi2jiRmh_2"
      },
      "source": [
        "### Tensorflow"
      ]
    },
    {
      "cell_type": "code",
      "metadata": {
        "colab": {
          "base_uri": "https://localhost:8080/"
        },
        "id": "SDEVg9l1mg0g",
        "outputId": "a95cd339-8d83-41d0-becf-89648cbf7ecb"
      },
      "source": [
        "A_tf = tf.Variable([[3, 4], [5, 6], [7, 8]])\n",
        "B_tf = tf.Variable([1, 2])\n",
        "\n",
        "tf.linalg.matvec(A_tf, B_tf)    # like np.dot(), automatically infers dims in order to perform dot product, matvec, or matrix multiplication"
      ],
      "execution_count": null,
      "outputs": [
        {
          "output_type": "execute_result",
          "data": {
            "text/plain": [
              "<tf.Tensor: shape=(3,), dtype=int32, numpy=array([11, 17, 23], dtype=int32)>"
            ]
          },
          "metadata": {},
          "execution_count": 14
        }
      ]
    },
    {
      "cell_type": "markdown",
      "metadata": {
        "id": "sI2GIovUh4Oe"
      },
      "source": [
        "## 5.2 Matrix-by-Matrix Multiplication"
      ]
    },
    {
      "cell_type": "markdown",
      "metadata": {
        "id": "O9VWp1a5nhbb"
      },
      "source": [
        "## NumPy\n",
        "\n",
        "Note that matrix multiplication is not \"commutative\" (i.e., $AB \\neq BA$) so uncommenting the following line will throw a size mismatch error:\n",
        "\n",
        "- Error notes: ```dot``` is matrix multiplication, but ```*``` does something else ([StackOverflow](https://stackoverflow.com/questions/24560298/python-numpy-valueerror-operands-could-not-be-broadcast-together-with-shapes)).\n"
      ]
    },
    {
      "cell_type": "code",
      "metadata": {
        "colab": {
          "base_uri": "https://localhost:8080/"
        },
        "id": "qNgyNfgph4ef",
        "outputId": "30ef150b-62e8-4be1-a622-f35b783b8e35"
      },
      "source": [
        "A = np.array([[3, 4], [5, 6], [7, 8]])\n",
        "B = np.array([[1, 9], [2, 0]])\n",
        "\n",
        "np.dot(A, B)"
      ],
      "execution_count": null,
      "outputs": [
        {
          "output_type": "execute_result",
          "data": {
            "text/plain": [
              "array([[11, 27],\n",
              "       [17, 45],\n",
              "       [23, 63]])"
            ]
          },
          "metadata": {},
          "execution_count": 16
        }
      ]
    },
    {
      "cell_type": "markdown",
      "metadata": {
        "id": "jrR4i5cnnk77"
      },
      "source": [
        "## PyTorch"
      ]
    },
    {
      "cell_type": "code",
      "metadata": {
        "colab": {
          "base_uri": "https://localhost:8080/"
        },
        "id": "dcwPfSHXnlS5",
        "outputId": "d0a82d01-1a2e-400a-e6d6-2dd8d1d78baf"
      },
      "source": [
        "A = torch.tensor(A)\n",
        "B = torch.tensor(B)\n",
        "\n",
        "torch.matmul(A, B)"
      ],
      "execution_count": null,
      "outputs": [
        {
          "output_type": "execute_result",
          "data": {
            "text/plain": [
              "tensor([[11, 27],\n",
              "        [17, 45],\n",
              "        [23, 63]])"
            ]
          },
          "metadata": {},
          "execution_count": 17
        }
      ]
    },
    {
      "cell_type": "markdown",
      "metadata": {
        "id": "E4av2ZT9h6M0"
      },
      "source": [
        "## 5.3 Symmetric and Identity Matrices"
      ]
    },
    {
      "cell_type": "markdown",
      "metadata": {
        "id": "rRFYDFfEryTG"
      },
      "source": [
        "### Symmetric matrix\n",
        "- (squares shapes only): the values of a square matrix mirror each other about the diagonal. \n",
        "- $X^T = X$\n",
        "- When transpose, **true across the border** (see the snippet below)."
      ]
    },
    {
      "cell_type": "code",
      "metadata": {
        "colab": {
          "base_uri": "https://localhost:8080/"
        },
        "id": "ygdGarisqayn",
        "outputId": "0bb7607f-187f-4e88-d4fd-7f477cd35f39"
      },
      "source": [
        "X_sym = np.array([[0, 1, 2], [1, 7, 8], [2, 8, 9]])\n",
        "X_sym"
      ],
      "execution_count": null,
      "outputs": [
        {
          "output_type": "execute_result",
          "data": {
            "text/plain": [
              "array([[0, 1, 2],\n",
              "       [1, 7, 8],\n",
              "       [2, 8, 9]])"
            ]
          },
          "metadata": {},
          "execution_count": 18
        }
      ]
    },
    {
      "cell_type": "code",
      "metadata": {
        "colab": {
          "base_uri": "https://localhost:8080/"
        },
        "id": "L-VzdV4aq6FD",
        "outputId": "b9e917ce-e96e-462c-be22-78e79e03d2e4"
      },
      "source": [
        "# Transposition of symmetric matrix\n",
        "\n",
        "X_sym.T == X_sym"
      ],
      "execution_count": null,
      "outputs": [
        {
          "output_type": "execute_result",
          "data": {
            "text/plain": [
              "array([[ True,  True,  True],\n",
              "       [ True,  True,  True],\n",
              "       [ True,  True,  True]])"
            ]
          },
          "metadata": {},
          "execution_count": 20
        }
      ]
    },
    {
      "cell_type": "code",
      "metadata": {
        "colab": {
          "base_uri": "https://localhost:8080/"
        },
        "id": "UvD7yVjMq_6H",
        "outputId": "90aa649d-27ab-4238-b343-26ab32083916"
      },
      "source": [
        "print(B)\n",
        "\n",
        "B.T == B"
      ],
      "execution_count": null,
      "outputs": [
        {
          "output_type": "stream",
          "name": "stdout",
          "text": [
            "tensor([[1, 9],\n",
            "        [2, 0]])\n"
          ]
        },
        {
          "output_type": "execute_result",
          "data": {
            "text/plain": [
              "tensor([[ True, False],\n",
              "        [False,  True]])"
            ]
          },
          "metadata": {},
          "execution_count": 22
        }
      ]
    },
    {
      "cell_type": "markdown",
      "metadata": {
        "id": "scwT92Dor4YM"
      },
      "source": [
        "### Identity matrix\n",
        "- Every element along main diagonal is 1.\n",
        "- All other elements are 0.\n",
        "- Notation: $I_n$ where ```n = height (or width)```\n",
        "- $n-length$ $vector$ unchanged if multiplied by $I_n$."
      ]
    },
    {
      "cell_type": "markdown",
      "metadata": {
        "id": "dl1k25xQnjin"
      },
      "source": [
        "## NumPy"
      ]
    },
    {
      "cell_type": "code",
      "metadata": {
        "colab": {
          "base_uri": "https://localhost:8080/"
        },
        "id": "Gy8FUg_vsULf",
        "outputId": "176b4fe5-ca58-4dd7-9820-c013529b1fde"
      },
      "source": [
        "I_np = np.array([[1, 0, 0], [0, 1, 0], [0, 0, 1]])\n",
        "a_np = np.array([1, 5, 45])\n",
        "\n",
        "np.dot(I_np, a_np), np.dot(a_np, I_np)"
      ],
      "execution_count": null,
      "outputs": [
        {
          "output_type": "execute_result",
          "data": {
            "text/plain": [
              "(array([ 1,  5, 45]), array([ 1,  5, 45]))"
            ]
          },
          "metadata": {},
          "execution_count": 29
        }
      ]
    },
    {
      "cell_type": "markdown",
      "metadata": {
        "id": "ui3XAB0vnnKs"
      },
      "source": [
        "## PyTorch"
      ]
    },
    {
      "cell_type": "code",
      "metadata": {
        "colab": {
          "base_uri": "https://localhost:8080/"
        },
        "id": "Gzt4g_6sh7ML",
        "outputId": "18206112-d411-4e58-caa6-18e632031f4b"
      },
      "source": [
        "I  = torch.tensor([[1, 0, 0], [0, 1, 0], [0, 0, 1]])\n",
        "I"
      ],
      "execution_count": null,
      "outputs": [
        {
          "output_type": "execute_result",
          "data": {
            "text/plain": [
              "tensor([[1, 0, 0],\n",
              "        [0, 1, 0],\n",
              "        [0, 0, 1]])"
            ]
          },
          "metadata": {},
          "execution_count": 23
        }
      ]
    },
    {
      "cell_type": "code",
      "metadata": {
        "colab": {
          "base_uri": "https://localhost:8080/"
        },
        "id": "UNr9QlvisWdK",
        "outputId": "61acf202-25fe-45cd-eb28-1078d4b879db"
      },
      "source": [
        "# NOT A matrix multiplication\n",
        "x_pt = torch.tensor([25, 3, 7])\n",
        "I * x_pt"
      ],
      "execution_count": null,
      "outputs": [
        {
          "output_type": "execute_result",
          "data": {
            "text/plain": [
              "tensor([[25,  0,  0],\n",
              "        [ 0,  3,  0],\n",
              "        [ 0,  0,  7]])"
            ]
          },
          "metadata": {},
          "execution_count": 26
        }
      ]
    },
    {
      "cell_type": "code",
      "metadata": {
        "colab": {
          "base_uri": "https://localhost:8080/"
        },
        "id": "KVcEp8NWshe_",
        "outputId": "bf411036-8acd-4486-a3f0-3f393d53f7f1"
      },
      "source": [
        "# Matrix multiplication\n",
        "torch.matmul(I, x_pt)"
      ],
      "execution_count": null,
      "outputs": [
        {
          "output_type": "execute_result",
          "data": {
            "text/plain": [
              "tensor([25,  3,  7])"
            ]
          },
          "metadata": {},
          "execution_count": 27
        }
      ]
    },
    {
      "cell_type": "markdown",
      "metadata": {
        "id": "EK2PHqtih7f5"
      },
      "source": [
        "## 5.4 Exercises"
      ]
    },
    {
      "cell_type": "markdown",
      "metadata": {
        "id": "d85RFxu_wXD5"
      },
      "source": [
        "### Problem 1: Matrix * Vector"
      ]
    },
    {
      "cell_type": "code",
      "metadata": {
        "id": "prJm6z97h8eT",
        "colab": {
          "base_uri": "https://localhost:8080/"
        },
        "outputId": "b1422049-d6f0-4393-baf6-87ae8ad5460b"
      },
      "source": [
        "a = np.array([[0, 1, 2], [3, 4, 5], [6, 7, 8]])\n",
        "b = np.array([-1, 1, -2])\n",
        "\n",
        "np.dot(a, b)"
      ],
      "execution_count": 39,
      "outputs": [
        {
          "output_type": "execute_result",
          "data": {
            "text/plain": [
              "array([ -3,  -9, -15])"
            ]
          },
          "metadata": {},
          "execution_count": 39
        }
      ]
    },
    {
      "cell_type": "code",
      "metadata": {
        "colab": {
          "base_uri": "https://localhost:8080/"
        },
        "id": "QNhTYOaqvjNw",
        "outputId": "977b0990-b1f7-40a0-86d1-ec70fee4f709"
      },
      "source": [
        "a_pt = torch.tensor(a)\n",
        "b_pt = torch.tensor(b)\n",
        "\n",
        "torch.matmul(a_pt, b_pt)"
      ],
      "execution_count": 32,
      "outputs": [
        {
          "output_type": "execute_result",
          "data": {
            "text/plain": [
              "tensor([ -3,  -9, -15])"
            ]
          },
          "metadata": {},
          "execution_count": 32
        }
      ]
    },
    {
      "cell_type": "markdown",
      "metadata": {
        "id": "UWgONH_SxKFf"
      },
      "source": [
        "### Problem 2: Identity matrix"
      ]
    },
    {
      "cell_type": "code",
      "metadata": {
        "colab": {
          "base_uri": "https://localhost:8080/"
        },
        "id": "qH7tLl15xSZq",
        "outputId": "c551f041-3b0c-4758-8885-834956a421a7"
      },
      "source": [
        "b = np.array([-1, 1, -2])\n",
        "i = np.array([[1, 0, 0], [0, 1, 0], [0, 0, 1]])\n",
        "\n",
        "np.dot(b, i)"
      ],
      "execution_count": 41,
      "outputs": [
        {
          "output_type": "execute_result",
          "data": {
            "text/plain": [
              "array([-1,  1, -2])"
            ]
          },
          "metadata": {},
          "execution_count": 41
        }
      ]
    },
    {
      "cell_type": "markdown",
      "metadata": {
        "id": "J6T7QXqKwZEO"
      },
      "source": [
        "### Problem 3 - Matrix * Matrix"
      ]
    },
    {
      "cell_type": "code",
      "metadata": {
        "colab": {
          "base_uri": "https://localhost:8080/"
        },
        "id": "vmY6xTk8AYsa",
        "outputId": "f6b02d60-3dda-47b6-ff0e-71db3302442c"
      },
      "source": [
        "a_tf = tf.Variable([[0, 1, 2], [3, 4, 5], [6, 7, 8]])\n",
        "b_tf = tf.Variable([[-1, 1, -2], [0, 1, 2]])\n",
        "\n",
        "tf.matmul(b_tf, a_tf)"
      ],
      "execution_count": 43,
      "outputs": [
        {
          "output_type": "execute_result",
          "data": {
            "text/plain": [
              "<tf.Tensor: shape=(2, 3), dtype=int32, numpy=\n",
              "array([[ -9, -11, -13],\n",
              "       [ 15,  18,  21]], dtype=int32)>"
            ]
          },
          "metadata": {},
          "execution_count": 43
        }
      ]
    },
    {
      "cell_type": "code",
      "metadata": {
        "id": "l8TOW17fAdY3"
      },
      "source": [
        ""
      ],
      "execution_count": null,
      "outputs": []
    },
    {
      "cell_type": "code",
      "metadata": {
        "colab": {
          "base_uri": "https://localhost:8080/"
        },
        "id": "lSRw5uZgwWP_",
        "outputId": "15751033-0a62-4da9-cf9a-3b6fe87d2988"
      },
      "source": [
        "a_pt = torch.tensor([[0, 1, 2], [3, 4, 5], [6, 7, 8]])\n",
        "b_pt = torch.tensor([[-1, 1, -2], [0, 1, 2]])\n",
        "\n",
        "torch.matmul(b_pt, a_pt)"
      ],
      "execution_count": 44,
      "outputs": [
        {
          "output_type": "execute_result",
          "data": {
            "text/plain": [
              "tensor([[ -9, -11, -13],\n",
              "        [ 15,  18,  21]])"
            ]
          },
          "metadata": {},
          "execution_count": 44
        }
      ]
    },
    {
      "cell_type": "markdown",
      "metadata": {
        "id": "nEyOn-g21L6J"
      },
      "source": [
        "## 5.5 Machine Learning and Deep Learning Applications"
      ]
    },
    {
      "cell_type": "markdown",
      "metadata": {
        "id": "qJeH3oJmh8w8"
      },
      "source": [
        "### General model  \n",
        "$y = a + bx_1 + cx_2 + ... + mx_m$  \n",
        "<br />\n",
        "- System of linear equations (representing $m-dimensional$ $space$)\n",
        "$ house prise = location + bed rooms + square mtr + ... + n-th feature$  \n",
        "$y_1 = a + bx_1,_x1 + cx_1,_2 + ... + mx_1,_m$  \n",
        "$y_2 = a + bx_2,_x1 + cx_2,_2 + ... + mx_2,_m$  \n",
        "$y_3 = a + bx_3,_x1 + cx_3,_2 + ... + mx_3,_m$  \n",
        "...      \n",
        "$y_n = a + bx_n,_x1 + cx_n,_2 + ... + mx_n,_m$  \n",
        "\n",
        "For any house $i$ in the dataset, $yi = price$ and $x_i,_1$ to $x_i,_m$ are its features. We solve for parameters $a, b, c$ to $m$."
      ]
    },
    {
      "cell_type": "markdown",
      "metadata": {
        "id": "9S9pgsOmzhGc"
      },
      "source": [
        "### Matrix Multiplication in Regression \n",
        "\n",
        "- $y's$ are $n cases$ tall.  \n",
        "$[y_1, y_2, y_3 ...$ $y_n]$  \n",
        "<br />\n",
        "- $x's$ are $n features$ wide.  \n",
        "$[1, x_1,_1 + x_1,_2 + ... + mx_1,_m$ $]$  \n",
        "$[1, x_2,_1 + x_2,_2 + ... + mx_2,_m$ $]$  \n",
        "$[1, x_3,_1 + x_3,_2 + ... + mx_3,_m$ $]$  \n",
        "...  \n",
        "$[1, x_n,_1 + x_n,_2 + ... + mx_n,_m$ $]$  $multiplied$ $by$ $[a, b, c ... m$ $]$"
      ]
    }
  ]
}