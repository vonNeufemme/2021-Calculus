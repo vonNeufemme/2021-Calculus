{
  "nbformat": 4,
  "nbformat_minor": 0,
  "metadata": {
    "colab": {
      "name": "08 Matrix Determinants and Decomposition.ipynb",
      "provenance": [],
      "collapsed_sections": [],
      "toc_visible": true
    },
    "kernelspec": {
      "name": "python3",
      "display_name": "Python 3"
    },
    "language_info": {
      "name": "python"
    }
  },
  "cells": [
    {
      "cell_type": "markdown",
      "metadata": {
        "id": "Y-OMUqZZkYNf"
      },
      "source": [
        "# Matrix Determinants and Decomposition\n",
        "\n",
        "Determinants are the clever trick that they figured out to test the quality of a matrix without seeing them. Just by plugging in the numbers from the right positions into the determinant formula, you can figure out if they line up in the one single line, or they part ways shaping a wider span for themselves.\n",
        "\n",
        "<br/>\n",
        "\n",
        "The real question is... how did they really manage to figure this sneaky sneaky thing?"
      ]
    },
    {
      "cell_type": "markdown",
      "metadata": {
        "id": "ruLDyejxgbrS"
      },
      "source": [
        "## 8.1 The Determinant of a 2 x 2 Matrix\n",
        "\n",
        "- The determinant of a matrix allows us to map the matrix to a scalar. (It's gotta be $A$ $SQUARE$ $MATRIX!$)\n",
        "- Enable us to determine whether matrix can be inverted. \n",
        "\n",
        "<br />\n",
        "\n",
        "- For matrix $X$, denoted as $det(X)$\n",
        "- If $det(X) = 0:\n",
        "    - Matrix $X^-$$^1$ can't be computed because $X^-$$^1$ has $\\frac{1}{det(X)}$ which equals $\\frac{1}{0}$  \n",
        "\n",
        "    - Matrix $X$ is singular: it contains linearly-dependent columns.\n",
        "- $det(X)$ easiest to calculate for 2x2 matrix. "
      ]
    },
    {
      "cell_type": "code",
      "metadata": {
        "id": "uzp2cfeLktSd"
      },
      "source": [
        "import numpy as np\n",
        "import random\n",
        "import matplotlib.pyplot as plt"
      ],
      "execution_count": 1,
      "outputs": []
    },
    {
      "cell_type": "markdown",
      "metadata": {
        "id": "XTRkTgMulGyd"
      },
      "source": [
        "### Determinant Example 1"
      ]
    },
    {
      "cell_type": "code",
      "metadata": {
        "colab": {
          "base_uri": "https://localhost:8080/"
        },
        "id": "4nH_7VnLeHwF",
        "outputId": "3ce1f067-ff9d-4c1a-e10b-875c9558a0b6"
      },
      "source": [
        "X = np.array([[4, 2], [-5, -3]])\n",
        "X_det = X[0][0] * X[1][1] - X[0][1] * X[1][0]\n",
        "X_det   # -2 is the determinant of the matrix x."
      ],
      "execution_count": 217,
      "outputs": [
        {
          "output_type": "execute_result",
          "data": {
            "text/plain": [
              "-2"
            ]
          },
          "metadata": {},
          "execution_count": 217
        }
      ]
    },
    {
      "cell_type": "code",
      "metadata": {
        "colab": {
          "base_uri": "https://localhost:8080/"
        },
        "id": "UXwN_lrQkugc",
        "outputId": "86ecabc1-e654-4c51-9b66-9b1f2e05301c"
      },
      "source": [
        "np.linalg.det(X)"
      ],
      "execution_count": 218,
      "outputs": [
        {
          "output_type": "execute_result",
          "data": {
            "text/plain": [
              "-2.0000000000000013"
            ]
          },
          "metadata": {},
          "execution_count": 218
        }
      ]
    },
    {
      "cell_type": "code",
      "metadata": {
        "colab": {
          "base_uri": "https://localhost:8080/",
          "height": 269
        },
        "id": "CR_ReB1OmQNj",
        "outputId": "c479c3fc-4763-4ff7-cfc4-1d1a59ada85c"
      },
      "source": [
        "plot_vectors([X[0], X[1]])"
      ],
      "execution_count": 219,
      "outputs": [
        {
          "output_type": "display_data",
          "data": {
            "image/png": "[encoded data removed]",
            "text/plain": [
              "<Figure size 432x288 with 1 Axes>"
            ]
          },
          "metadata": {
            "needs_background": "light"
          }
        }
      ]
    },
    {
      "cell_type": "markdown",
      "metadata": {
        "id": "7A4BqZg5lKs7"
      },
      "source": [
        "### Determinant Example 2 where $det(X) = 0$\n",
        "- The matrix cannot be inverted."
      ]
    },
    {
      "cell_type": "code",
      "metadata": {
        "colab": {
          "base_uri": "https://localhost:8080/"
        },
        "id": "HrCD_SlnlL7o",
        "outputId": "5cfc643c-454b-45dc-8aeb-6e26f8e250fc"
      },
      "source": [
        "N = np.array([[-4, 1], [-8, 2]])\n",
        "np.linalg.det(N)"
      ],
      "execution_count": 220,
      "outputs": [
        {
          "output_type": "execute_result",
          "data": {
            "text/plain": [
              "0.0"
            ]
          },
          "metadata": {},
          "execution_count": 220
        }
      ]
    },
    {
      "cell_type": "code",
      "metadata": {
        "colab": {
          "base_uri": "https://localhost:8080/",
          "height": 337
        },
        "id": "nnKmsa5QoT5y",
        "outputId": "07902935-7e60-4355-f85a-726bb314179b"
      },
      "source": [
        "N_inv = np.linalg.inv(N)"
      ],
      "execution_count": 221,
      "outputs": [
        {
          "output_type": "error",
          "ename": "LinAlgError",
          "evalue": "ignored",
          "traceback": [
            "\u001b[0;31m---------------------------------------------------------------------------\u001b[0m",
            "\u001b[0;31mLinAlgError\u001b[0m                               Traceback (most recent call last)",
            "\u001b[0;32m<ipython-input-221-0a5342bc8d37>\u001b[0m in \u001b[0;36m<module>\u001b[0;34m()\u001b[0m\n\u001b[0;32m----> 1\u001b[0;31m \u001b[0mN_inv\u001b[0m \u001b[0;34m=\u001b[0m \u001b[0mnp\u001b[0m\u001b[0;34m.\u001b[0m\u001b[0mlinalg\u001b[0m\u001b[0;34m.\u001b[0m\u001b[0minv\u001b[0m\u001b[0;34m(\u001b[0m\u001b[0mN\u001b[0m\u001b[0;34m)\u001b[0m\u001b[0;34m\u001b[0m\u001b[0;34m\u001b[0m\u001b[0m\n\u001b[0m",
            "\u001b[0;32m<__array_function__ internals>\u001b[0m in \u001b[0;36minv\u001b[0;34m(*args, **kwargs)\u001b[0m\n",
            "\u001b[0;32m/usr/local/lib/python3.7/dist-packages/numpy/linalg/linalg.py\u001b[0m in \u001b[0;36minv\u001b[0;34m(a)\u001b[0m\n\u001b[1;32m    544\u001b[0m     \u001b[0msignature\u001b[0m \u001b[0;34m=\u001b[0m \u001b[0;34m'D->D'\u001b[0m \u001b[0;32mif\u001b[0m \u001b[0misComplexType\u001b[0m\u001b[0;34m(\u001b[0m\u001b[0mt\u001b[0m\u001b[0;34m)\u001b[0m \u001b[0;32melse\u001b[0m \u001b[0;34m'd->d'\u001b[0m\u001b[0;34m\u001b[0m\u001b[0;34m\u001b[0m\u001b[0m\n\u001b[1;32m    545\u001b[0m     \u001b[0mextobj\u001b[0m \u001b[0;34m=\u001b[0m \u001b[0mget_linalg_error_extobj\u001b[0m\u001b[0;34m(\u001b[0m\u001b[0m_raise_linalgerror_singular\u001b[0m\u001b[0;34m)\u001b[0m\u001b[0;34m\u001b[0m\u001b[0;34m\u001b[0m\u001b[0m\n\u001b[0;32m--> 546\u001b[0;31m     \u001b[0mainv\u001b[0m \u001b[0;34m=\u001b[0m \u001b[0m_umath_linalg\u001b[0m\u001b[0;34m.\u001b[0m\u001b[0minv\u001b[0m\u001b[0;34m(\u001b[0m\u001b[0ma\u001b[0m\u001b[0;34m,\u001b[0m \u001b[0msignature\u001b[0m\u001b[0;34m=\u001b[0m\u001b[0msignature\u001b[0m\u001b[0;34m,\u001b[0m \u001b[0mextobj\u001b[0m\u001b[0;34m=\u001b[0m\u001b[0mextobj\u001b[0m\u001b[0;34m)\u001b[0m\u001b[0;34m\u001b[0m\u001b[0;34m\u001b[0m\u001b[0m\n\u001b[0m\u001b[1;32m    547\u001b[0m     \u001b[0;32mreturn\u001b[0m \u001b[0mwrap\u001b[0m\u001b[0;34m(\u001b[0m\u001b[0mainv\u001b[0m\u001b[0;34m.\u001b[0m\u001b[0mastype\u001b[0m\u001b[0;34m(\u001b[0m\u001b[0mresult_t\u001b[0m\u001b[0;34m,\u001b[0m \u001b[0mcopy\u001b[0m\u001b[0;34m=\u001b[0m\u001b[0;32mFalse\u001b[0m\u001b[0;34m)\u001b[0m\u001b[0;34m)\u001b[0m\u001b[0;34m\u001b[0m\u001b[0;34m\u001b[0m\u001b[0m\n\u001b[1;32m    548\u001b[0m \u001b[0;34m\u001b[0m\u001b[0m\n",
            "\u001b[0;32m/usr/local/lib/python3.7/dist-packages/numpy/linalg/linalg.py\u001b[0m in \u001b[0;36m_raise_linalgerror_singular\u001b[0;34m(err, flag)\u001b[0m\n\u001b[1;32m     86\u001b[0m \u001b[0;34m\u001b[0m\u001b[0m\n\u001b[1;32m     87\u001b[0m \u001b[0;32mdef\u001b[0m \u001b[0m_raise_linalgerror_singular\u001b[0m\u001b[0;34m(\u001b[0m\u001b[0merr\u001b[0m\u001b[0;34m,\u001b[0m \u001b[0mflag\u001b[0m\u001b[0;34m)\u001b[0m\u001b[0;34m:\u001b[0m\u001b[0;34m\u001b[0m\u001b[0;34m\u001b[0m\u001b[0m\n\u001b[0;32m---> 88\u001b[0;31m     \u001b[0;32mraise\u001b[0m \u001b[0mLinAlgError\u001b[0m\u001b[0;34m(\u001b[0m\u001b[0;34m\"Singular matrix\"\u001b[0m\u001b[0;34m)\u001b[0m\u001b[0;34m\u001b[0m\u001b[0;34m\u001b[0m\u001b[0m\n\u001b[0m\u001b[1;32m     89\u001b[0m \u001b[0;34m\u001b[0m\u001b[0m\n\u001b[1;32m     90\u001b[0m \u001b[0;32mdef\u001b[0m \u001b[0m_raise_linalgerror_nonposdef\u001b[0m\u001b[0;34m(\u001b[0m\u001b[0merr\u001b[0m\u001b[0;34m,\u001b[0m \u001b[0mflag\u001b[0m\u001b[0;34m)\u001b[0m\u001b[0;34m:\u001b[0m\u001b[0;34m\u001b[0m\u001b[0;34m\u001b[0m\u001b[0m\n",
            "\u001b[0;31mLinAlgError\u001b[0m: Singular matrix"
          ]
        }
      ]
    },
    {
      "cell_type": "markdown",
      "metadata": {
        "id": "rjj2Y0Fbo57U"
      },
      "source": [
        "See it for yourself. When it's singular, the determinant is 0."
      ]
    },
    {
      "cell_type": "code",
      "metadata": {
        "colab": {
          "base_uri": "https://localhost:8080/",
          "height": 302
        },
        "id": "_ZNl45v5od32",
        "outputId": "e724ddc3-8691-4dd3-e4cb-265cc11faf85"
      },
      "source": [
        "plot_vectors([N[0], N[1]])"
      ],
      "execution_count": 169,
      "outputs": [
        {
          "output_type": "stream",
          "name": "stdout",
          "text": [
            "max <= 0\n",
            "min >= 0\n"
          ]
        },
        {
          "output_type": "display_data",
          "data": {
            "image/png": "[encoded data removed]",
            "text/plain": [
              "<Figure size 432x288 with 1 Axes>"
            ]
          },
          "metadata": {
            "needs_background": "light"
          }
        }
      ]
    },
    {
      "cell_type": "markdown",
      "metadata": {
        "id": "iTpBVmrgghot"
      },
      "source": [
        "## 8.2 The Determinants of Larger Matrices"
      ]
    },
    {
      "cell_type": "code",
      "metadata": {
        "colab": {
          "base_uri": "https://localhost:8080/"
        },
        "id": "uQn_HvBvgnpt",
        "outputId": "7fada6cf-2960-4818-cd08-69e91f6a5f4f"
      },
      "source": [
        "X = np.array([[1, 2, 4], [2, -1, 3], [0, 5, 1]])\n",
        "X"
      ],
      "execution_count": 170,
      "outputs": [
        {
          "output_type": "execute_result",
          "data": {
            "text/plain": [
              "array([[ 1,  2,  4],\n",
              "       [ 2, -1,  3],\n",
              "       [ 0,  5,  1]])"
            ]
          },
          "metadata": {},
          "execution_count": 170
        }
      ]
    },
    {
      "cell_type": "code",
      "metadata": {
        "colab": {
          "base_uri": "https://localhost:8080/"
        },
        "id": "RaaMLjGktdLq",
        "outputId": "6f10c19e-5ac0-411d-e116-dccd4298bd38"
      },
      "source": [
        "np.linalg.det(X)"
      ],
      "execution_count": 171,
      "outputs": [
        {
          "output_type": "execute_result",
          "data": {
            "text/plain": [
              "19.999999999999996"
            ]
          },
          "metadata": {},
          "execution_count": 171
        }
      ]
    },
    {
      "cell_type": "markdown",
      "metadata": {
        "id": "8nvu_61YgjUm"
      },
      "source": [
        "## 8.3 Exercises"
      ]
    },
    {
      "cell_type": "code",
      "metadata": {
        "id": "oz1kv8t5gnQI"
      },
      "source": [
        "ex1 = np.array([[25, 2], [3, 4]])\n",
        "ex2 = np.array([[-2, 0], [0, -2]])\n",
        "ex3 = np.array([[2, 1, -3], [4, -5, 2], [0, -1, 3]])"
      ],
      "execution_count": 172,
      "outputs": []
    },
    {
      "cell_type": "code",
      "metadata": {
        "colab": {
          "base_uri": "https://localhost:8080/"
        },
        "id": "26I_WA1Iunac",
        "outputId": "80492d1a-adc7-4f01-98d7-9ba58891fb98"
      },
      "source": [
        "ex1_det = np.linalg.det(ex1)\n",
        "ex2_det = np.linalg.det(ex2)\n",
        "ex3_det = np.linalg.det(ex3)\n",
        "\n",
        "dets = [ex1_det, ex2_det, ex3_det]\n",
        "for det in dets:\n",
        "    print(det)"
      ],
      "execution_count": 173,
      "outputs": [
        {
          "output_type": "stream",
          "name": "stdout",
          "text": [
            "94.0\n",
            "4.0\n",
            "-26.000000000000014\n"
          ]
        }
      ]
    },
    {
      "cell_type": "code",
      "metadata": {
        "colab": {
          "base_uri": "https://localhost:8080/",
          "height": 521
        },
        "id": "3JfgyOYivGXj",
        "outputId": "ef1be27f-be78-4bb1-d009-b562949617e3"
      },
      "source": [
        "plot_vectors([ex1[0], ex1[1]])\n",
        "plot_vectors([ex2[0], ex2[1]])"
      ],
      "execution_count": 224,
      "outputs": [
        {
          "output_type": "display_data",
          "data": {
            "image/png": "[encoded data removed]",
            "text/plain": [
              "<Figure size 432x288 with 1 Axes>"
            ]
          },
          "metadata": {
            "needs_background": "light"
          }
        },
        {
          "output_type": "display_data",
          "data": {
            "image/png": "[encoded data removed]",
            "text/plain": [
              "<Figure size 432x288 with 1 Axes>"
            ]
          },
          "metadata": {
            "needs_background": "light"
          }
        }
      ]
    },
    {
      "cell_type": "markdown",
      "metadata": {
        "id": "j5BQiv2Ugkl_"
      },
      "source": [
        "## 8.4 Determinants and Eigenvalues\n",
        "\n",
        "$det(X)$ = product of all eigenvalues of $X$\n",
        "\n",
        "<br />\n",
        "\n",
        "$|det(X)|$ quantifies volumne change as a result of applying $X$:\n",
        "- If $det(X) = 0$, then $X$ $collapses$ $space$ completely in at least one dimension, thereby eliminating all volume.\n",
        "- If $0 < det(X) < 1$, then $X$ contracts volumne to some extent.\n",
        "- If $det(X) = 1$, then $X$ preserves $volumne$ exactly.\n",
        "- If $det(X) > 1$, then $X$ expands $volumne$ (= 3D).\n",
        "\n",
        "Notes: don't get confused. $Determinants$ are $for$ $matrices$ (at least 2D), not for vectors (1D). \n"
      ]
    },
    {
      "cell_type": "code",
      "metadata": {
        "colab": {
          "base_uri": "https://localhost:8080/"
        },
        "id": "aY3J_jUcgm26",
        "outputId": "87108a5e-560b-41ff-ccd4-3fcac1911147"
      },
      "source": [
        "X = np.array([[1, 2, 4], [2, -1, 3], [0, 5, 1]])\n",
        "X"
      ],
      "execution_count": 175,
      "outputs": [
        {
          "output_type": "execute_result",
          "data": {
            "text/plain": [
              "array([[ 1,  2,  4],\n",
              "       [ 2, -1,  3],\n",
              "       [ 0,  5,  1]])"
            ]
          },
          "metadata": {},
          "execution_count": 175
        }
      ]
    },
    {
      "cell_type": "code",
      "metadata": {
        "colab": {
          "base_uri": "https://localhost:8080/"
        },
        "id": "gb1B_vadxdci",
        "outputId": "837731c1-3779-42d9-9426-6429cab5de17"
      },
      "source": [
        "np.linalg.det(X)"
      ],
      "execution_count": 176,
      "outputs": [
        {
          "output_type": "execute_result",
          "data": {
            "text/plain": [
              "19.999999999999996"
            ]
          },
          "metadata": {},
          "execution_count": 176
        }
      ]
    },
    {
      "cell_type": "code",
      "metadata": {
        "colab": {
          "base_uri": "https://localhost:8080/"
        },
        "id": "Xm3mDWwRxqmP",
        "outputId": "745610c7-4d39-4d62-8206-4917600ab2f7"
      },
      "source": [
        "lambdas, V = np.linalg.eig(X)\n",
        "lambdas"
      ],
      "execution_count": 177,
      "outputs": [
        {
          "output_type": "execute_result",
          "data": {
            "text/plain": [
              "array([-3.25599251, -1.13863631,  5.39462882])"
            ]
          },
          "metadata": {},
          "execution_count": 177
        }
      ]
    },
    {
      "cell_type": "code",
      "metadata": {
        "colab": {
          "base_uri": "https://localhost:8080/"
        },
        "id": "1WLNvQj-x9vU",
        "outputId": "d0db8de1-d124-4e2c-e126-b8e2c9b990a5"
      },
      "source": [
        "np.product(lambdas)"
      ],
      "execution_count": 178,
      "outputs": [
        {
          "output_type": "execute_result",
          "data": {
            "text/plain": [
              "19.99999999999999"
            ]
          },
          "metadata": {},
          "execution_count": 178
        }
      ]
    },
    {
      "cell_type": "code",
      "metadata": {
        "colab": {
          "base_uri": "https://localhost:8080/"
        },
        "id": "Q8DQLGsg0PnK",
        "outputId": "10326364-99f0-4820-f216-77fb5796c8a4"
      },
      "source": [
        "np.abs(np.product(lambdas))"
      ],
      "execution_count": 179,
      "outputs": [
        {
          "output_type": "execute_result",
          "data": {
            "text/plain": [
              "19.99999999999999"
            ]
          },
          "metadata": {},
          "execution_count": 179
        }
      ]
    },
    {
      "cell_type": "code",
      "metadata": {
        "colab": {
          "base_uri": "https://localhost:8080/"
        },
        "id": "JgHDB9Cj0XtY",
        "outputId": "b9b4117f-4118-44e3-c777-063367a9d8a6"
      },
      "source": [
        "B = np.array([[1, 0], [0, 1]])\n",
        "B"
      ],
      "execution_count": 180,
      "outputs": [
        {
          "output_type": "execute_result",
          "data": {
            "text/plain": [
              "array([[1, 0],\n",
              "       [0, 1]])"
            ]
          },
          "metadata": {},
          "execution_count": 180
        }
      ]
    },
    {
      "cell_type": "code",
      "metadata": {
        "colab": {
          "base_uri": "https://localhost:8080/",
          "height": 300
        },
        "id": "bDlY9BLh0o0G",
        "outputId": "df8f3317-1fb6-4f67-bd39-43397c1e5b82"
      },
      "source": [
        "def vectorise(matrix, column):\n",
        "    return np.array(matrix[:, column]).reshape(-1)\n",
        "\n",
        "plot_vectors([vectorise(B, 0), vectorise(B, 1)])\n",
        "plt.title(\"Basis vector\", fontsize=15)"
      ],
      "execution_count": 215,
      "outputs": [
        {
          "output_type": "execute_result",
          "data": {
            "text/plain": [
              "Text(0.5, 1.0, 'Basis vector')"
            ]
          },
          "metadata": {},
          "execution_count": 215
        },
        {
          "output_type": "display_data",
          "data": {
            "image/png": "[encoded data removed]",
            "text/plain": [
              "<Figure size 432x288 with 1 Axes>"
            ]
          },
          "metadata": {
            "needs_background": "light"
          }
        }
      ]
    },
    {
      "cell_type": "code",
      "metadata": {
        "colab": {
          "base_uri": "https://localhost:8080/"
        },
        "id": "P8WVZRis2BDK",
        "outputId": "fd5bed29-c497-4ecd-8a8b-47884155d9f1"
      },
      "source": [
        "N"
      ],
      "execution_count": 182,
      "outputs": [
        {
          "output_type": "execute_result",
          "data": {
            "text/plain": [
              "array([[-4,  1],\n",
              "       [-8,  2]])"
            ]
          },
          "metadata": {},
          "execution_count": 182
        }
      ]
    },
    {
      "cell_type": "code",
      "metadata": {
        "colab": {
          "base_uri": "https://localhost:8080/"
        },
        "id": "FaAOZJ8s2Cm4",
        "outputId": "5dc2d15f-ead6-4c45-bee9-d13598d2562c"
      },
      "source": [
        "np.linalg.det(N)"
      ],
      "execution_count": 183,
      "outputs": [
        {
          "output_type": "execute_result",
          "data": {
            "text/plain": [
              "0.0"
            ]
          },
          "metadata": {},
          "execution_count": 183
        }
      ]
    },
    {
      "cell_type": "markdown",
      "metadata": {
        "id": "VAIg9vzb3RBP"
      },
      "source": [
        "### Singular matrix and collapsing dimension\n",
        "Because the matrix $N$ is singular, it cannot be inverted. It collapses the dimensionality of the matrix down to a single dimension. Any vectors would be squashed down onto the one dimension by that singular matrix $N$."
      ]
    },
    {
      "cell_type": "code",
      "metadata": {
        "colab": {
          "base_uri": "https://localhost:8080/"
        },
        "id": "u6jmYEOH2Hpl",
        "outputId": "3d6bfa03-6aee-48c8-e46b-efe540cf0008"
      },
      "source": [
        "NB = np.dot(N, B)\n",
        "NB"
      ],
      "execution_count": 184,
      "outputs": [
        {
          "output_type": "execute_result",
          "data": {
            "text/plain": [
              "array([[-4,  1],\n",
              "       [-8,  2]])"
            ]
          },
          "metadata": {},
          "execution_count": 184
        }
      ]
    },
    {
      "cell_type": "code",
      "metadata": {
        "colab": {
          "base_uri": "https://localhost:8080/",
          "height": 483
        },
        "id": "p5_qAq6n2eY0",
        "outputId": "f00d538c-1765-4932-89c3-7873783c434a"
      },
      "source": [
        "plot_vectors([vectorise(B, 0), vectorise(B, 1), vectorise(NB, 0), vectorise(NB, 1)], figsize=(5, 8))"
      ],
      "execution_count": 214,
      "outputs": [
        {
          "output_type": "display_data",
          "data": {
            "image/png": "[encoded data removed]",
            "text/plain": [
              "<Figure size 360x576 with 1 Axes>"
            ]
          },
          "metadata": {
            "needs_background": "light"
          }
        }
      ]
    },
    {
      "cell_type": "markdown",
      "metadata": {
        "id": "pKO6T-B33_al"
      },
      "source": [
        "### Identity matrix"
      ]
    },
    {
      "cell_type": "code",
      "metadata": {
        "id": "fMAHH4Ix38Tm"
      },
      "source": [
        "I = np.array([[1, 0], [0, 1]])"
      ],
      "execution_count": 186,
      "outputs": []
    },
    {
      "cell_type": "code",
      "metadata": {
        "colab": {
          "base_uri": "https://localhost:8080/"
        },
        "id": "hWXAtMbU3-6e",
        "outputId": "9f190651-9653-4777-faf6-c432752eb8b1"
      },
      "source": [
        "np.linalg.det(I)"
      ],
      "execution_count": 187,
      "outputs": [
        {
          "output_type": "execute_result",
          "data": {
            "text/plain": [
              "1.0"
            ]
          },
          "metadata": {},
          "execution_count": 187
        }
      ]
    },
    {
      "cell_type": "code",
      "metadata": {
        "colab": {
          "base_uri": "https://localhost:8080/"
        },
        "id": "pwV9BhHD4Kdc",
        "outputId": "15a6f711-ca43-416b-d155-6372c1e6434c"
      },
      "source": [
        "IB = np.dot(I, B)\n",
        "IB"
      ],
      "execution_count": 188,
      "outputs": [
        {
          "output_type": "execute_result",
          "data": {
            "text/plain": [
              "array([[1, 0],\n",
              "       [0, 1]])"
            ]
          },
          "metadata": {},
          "execution_count": 188
        }
      ]
    },
    {
      "cell_type": "code",
      "metadata": {
        "colab": {
          "base_uri": "https://localhost:8080/",
          "height": 302
        },
        "id": "vUBDcc674VLa",
        "outputId": "7c26f775-5051-44bb-d85f-6108e1506cdb"
      },
      "source": [
        "plot_vectors([vectorise(B, 0), vectorise(B, 1), vectorise(IB, 0), vectorise(IB, 1)])"
      ],
      "execution_count": 189,
      "outputs": [
        {
          "output_type": "stream",
          "name": "stdout",
          "text": [
            "min >= 0\n",
            "min >= 0\n"
          ]
        },
        {
          "output_type": "display_data",
          "data": {
            "image/png": "[encoded data removed]",
            "text/plain": [
              "<Figure size 432x288 with 1 Axes>"
            ]
          },
          "metadata": {
            "needs_background": "light"
          }
        }
      ]
    },
    {
      "cell_type": "markdown",
      "metadata": {
        "id": "U8wbQazq41jg"
      },
      "source": [
        "### Diagonal matrix\n",
        "\n",
        "Here you go, the rule of determinants again:\n",
        "- If $det(X) = 1$, then $X$ preserves $volumne$ exactly.\n",
        "So when $determinant = -1$, it's absolute value is 1. So we can expect that the volumne remains preserved, even though the shape is transformed when applied by a matrix with determinant -1. You will see it for yourself in the below example."
      ]
    },
    {
      "cell_type": "code",
      "metadata": {
        "colab": {
          "base_uri": "https://localhost:8080/"
        },
        "id": "8K0MQ6A544JJ",
        "outputId": "167ae366-6ccf-4c9b-90ac-c931615dd9ac"
      },
      "source": [
        "J = np.array([[-0.5, 0], [0, 2]])\n",
        "J"
      ],
      "execution_count": 190,
      "outputs": [
        {
          "output_type": "execute_result",
          "data": {
            "text/plain": [
              "array([[-0.5,  0. ],\n",
              "       [ 0. ,  2. ]])"
            ]
          },
          "metadata": {},
          "execution_count": 190
        }
      ]
    },
    {
      "cell_type": "code",
      "metadata": {
        "colab": {
          "base_uri": "https://localhost:8080/"
        },
        "id": "A0mJ8Jvp479F",
        "outputId": "fe2aadf3-ac3f-4615-8057-8ce4efa75d95"
      },
      "source": [
        "np.linalg.det(J)"
      ],
      "execution_count": 191,
      "outputs": [
        {
          "output_type": "execute_result",
          "data": {
            "text/plain": [
              "-1.0"
            ]
          },
          "metadata": {},
          "execution_count": 191
        }
      ]
    },
    {
      "cell_type": "code",
      "metadata": {
        "colab": {
          "base_uri": "https://localhost:8080/"
        },
        "id": "ohp3Eoow4_wt",
        "outputId": "4d480f58-41d1-47c8-fce7-b73b4de9ffad"
      },
      "source": [
        "np.abs(np.linalg.det(J))"
      ],
      "execution_count": 192,
      "outputs": [
        {
          "output_type": "execute_result",
          "data": {
            "text/plain": [
              "1.0"
            ]
          },
          "metadata": {},
          "execution_count": 192
        }
      ]
    },
    {
      "cell_type": "code",
      "metadata": {
        "colab": {
          "base_uri": "https://localhost:8080/"
        },
        "id": "h_fTo9rI5KpT",
        "outputId": "ce693acc-187f-45c9-d599-e582e64375b7"
      },
      "source": [
        "JB = np.dot(J, B)\n",
        "JB"
      ],
      "execution_count": 193,
      "outputs": [
        {
          "output_type": "execute_result",
          "data": {
            "text/plain": [
              "array([[-0.5,  0. ],\n",
              "       [ 0. ,  2. ]])"
            ]
          },
          "metadata": {},
          "execution_count": 193
        }
      ]
    },
    {
      "cell_type": "code",
      "metadata": {
        "colab": {
          "base_uri": "https://localhost:8080/",
          "height": 302
        },
        "id": "v6K6oIFd5PHg",
        "outputId": "3525617a-47bf-48fa-adfe-eb7961d19491"
      },
      "source": [
        "a, b, c, d = vectorise(B, 0), vectorise(B, 1), vectorise(JB, 0), vectorise(JB, 1)\n",
        "plot_vectors([a, b, c, d])\n",
        "\n",
        "print(a[0] * b[1])\n",
        "print(c[0] * d[1])"
      ],
      "execution_count": 213,
      "outputs": [
        {
          "output_type": "stream",
          "name": "stdout",
          "text": [
            "1\n",
            "-1.0\n"
          ]
        },
        {
          "output_type": "display_data",
          "data": {
            "image/png": "[encoded data removed]",
            "text/plain": [
              "<Figure size 432x288 with 1 Axes>"
            ]
          },
          "metadata": {
            "needs_background": "light"
          }
        }
      ]
    },
    {
      "cell_type": "markdown",
      "metadata": {
        "id": "lZPm8Po863ol"
      },
      "source": [
        "### Scaling the matrix"
      ]
    },
    {
      "cell_type": "code",
      "metadata": {
        "colab": {
          "base_uri": "https://localhost:8080/"
        },
        "id": "9HPNUoDE6_WQ",
        "outputId": "00534cd4-3f9d-4c55-d460-876baef6a8bd"
      },
      "source": [
        "doubleI = I * 2\n",
        "doubleI"
      ],
      "execution_count": 195,
      "outputs": [
        {
          "output_type": "execute_result",
          "data": {
            "text/plain": [
              "array([[2, 0],\n",
              "       [0, 2]])"
            ]
          },
          "metadata": {},
          "execution_count": 195
        }
      ]
    },
    {
      "cell_type": "code",
      "metadata": {
        "colab": {
          "base_uri": "https://localhost:8080/"
        },
        "id": "SEwcr0Hy67KG",
        "outputId": "dcd8b666-3365-4dae-fc20-6cf268f70d44"
      },
      "source": [
        "doubleIB = np.dot(doubleI, B)\n",
        "doubleIB"
      ],
      "execution_count": 196,
      "outputs": [
        {
          "output_type": "execute_result",
          "data": {
            "text/plain": [
              "array([[2, 0],\n",
              "       [0, 2]])"
            ]
          },
          "metadata": {},
          "execution_count": 196
        }
      ]
    },
    {
      "cell_type": "markdown",
      "metadata": {
        "id": "c-AWsRsM7fI7"
      },
      "source": [
        "#### the area is quadruppled."
      ]
    },
    {
      "cell_type": "code",
      "metadata": {
        "colab": {
          "base_uri": "https://localhost:8080/",
          "height": 269
        },
        "id": "Ivz6bxc27DaR",
        "outputId": "957aa77d-adec-4bc3-b9f7-c7f7710f6b99"
      },
      "source": [
        "plot_vectors([vectorise(B, 0), vectorise(B, 1), vectorise(doubleIB, 0), vectorise(doubleIB, 1)])"
      ],
      "execution_count": 212,
      "outputs": [
        {
          "output_type": "display_data",
          "data": {
            "image/png": "[encoded data removed]",
            "text/plain": [
              "<Figure size 432x288 with 1 Axes>"
            ]
          },
          "metadata": {
            "needs_background": "light"
          }
        }
      ]
    },
    {
      "cell_type": "markdown",
      "metadata": {
        "id": "1UXkDqGWglxL"
      },
      "source": [
        "## 8.5 Eigendecomposition\n",
        "\n",
        "The decomposition of a matrix into eigenvectors and eigenvalues reveals charactersitics of the matrix:\n",
        "- Matrix is singular if and only if any of its eigenvalues are zero.\n",
        "- Under specific conditions (see 2.7 of Goodfellow et al., 2016), can optimise quadratic expressions: \n",
        "  - Maximum of $f(x) = largest$ $eigenvalue$\n",
        "  - Minimum of $f(x) = smallest$ $eigenvalue$"
      ]
    },
    {
      "cell_type": "markdown",
      "metadata": {
        "id": "BzN-KMgM9juA"
      },
      "source": [
        "The **eigendecomposition** of some matrix $A$ is   \n",
        "$A = V \\Lambda V^{-1}$\n",
        "\n",
        "Where:\n",
        "- As in examples above, $V$ is the concatenation of all the eigenvectors of $A$  \n",
        "- $\\Lambda$ (upper-case $\\lambda$) is the diagonal matrix diag($\\lambda$). Note that the convention is to arrange the lambda values in descending order; as a result, the first eigenvalue (and its associated eigenvector) may be a primary characteristic of the matrix $A$.\n",
        "\n"
      ]
    },
    {
      "cell_type": "code",
      "metadata": {
        "colab": {
          "base_uri": "https://localhost:8080/"
        },
        "id": "hP-Vme7kgoKG",
        "outputId": "e2777118-0e36-48ca-e531-c182fa2a454c"
      },
      "source": [
        "# This was used earlier as a matrix X; it has nice clean integer eigenvalues...\n",
        "A = np.array([[4, 2], [-5, -3]]) \n",
        "A"
      ],
      "execution_count": 198,
      "outputs": [
        {
          "output_type": "execute_result",
          "data": {
            "text/plain": [
              "array([[ 4,  2],\n",
              "       [-5, -3]])"
            ]
          },
          "metadata": {},
          "execution_count": 198
        }
      ]
    },
    {
      "cell_type": "code",
      "metadata": {
        "colab": {
          "base_uri": "https://localhost:8080/",
          "height": 307
        },
        "id": "cjPUDT_lAwsv",
        "outputId": "86f7fcfb-276c-4b7c-8cef-3378ead7a425"
      },
      "source": [
        "plot_vectors([A[0], A[1]])\n",
        "plt.title('Matrix A', fontsize=25)"
      ],
      "execution_count": 210,
      "outputs": [
        {
          "output_type": "execute_result",
          "data": {
            "text/plain": [
              "Text(0.5, 1.0, 'Matrix A')"
            ]
          },
          "metadata": {},
          "execution_count": 210
        },
        {
          "output_type": "display_data",
          "data": {
            "image/png": "[encoded data removed]",
            "text/plain": [
              "<Figure size 432x288 with 1 Axes>"
            ]
          },
          "metadata": {
            "needs_background": "light"
          }
        }
      ]
    },
    {
      "cell_type": "code",
      "metadata": {
        "id": "1uCUVJz9--vH"
      },
      "source": [
        "lambdas, V = np.linalg.eig(A)"
      ],
      "execution_count": 200,
      "outputs": []
    },
    {
      "cell_type": "code",
      "metadata": {
        "colab": {
          "base_uri": "https://localhost:8080/",
          "height": 324
        },
        "id": "PfviPaVW--oT",
        "outputId": "79e0aa66-da62-4f5c-eadd-09caab573b84"
      },
      "source": [
        "print(V[0], V[1])\n",
        "plot_vectors([V[0], V[1]])\n",
        "plt.title(\"Eigenvectors of A\", fontsize=25)"
      ],
      "execution_count": 209,
      "outputs": [
        {
          "output_type": "stream",
          "name": "stdout",
          "text": [
            "[ 0.70710678 -0.37139068] [-0.70710678  0.92847669]\n"
          ]
        },
        {
          "output_type": "execute_result",
          "data": {
            "text/plain": [
              "Text(0.5, 1.0, 'Eigenvectors of A')"
            ]
          },
          "metadata": {},
          "execution_count": 209
        },
        {
          "output_type": "display_data",
          "data": {
            "image/png": "[encoded data removed]",
            "text/plain": [
              "<Figure size 432x288 with 1 Axes>"
            ]
          },
          "metadata": {
            "needs_background": "light"
          }
        }
      ]
    },
    {
      "cell_type": "code",
      "metadata": {
        "colab": {
          "base_uri": "https://localhost:8080/",
          "height": 337
        },
        "id": "ND8BaJ70--h_",
        "outputId": "2bf00ae3-e120-4b13-cd0d-f0007bf32d2f"
      },
      "source": [
        "V_inv = np.linalg.inv(V)\n",
        "print(V_inv)\n",
        "\n",
        "plot_vectors([V_inv[0], V_inv[1]])\n",
        "plt.title(\"Inverse of Eigenvectors of A\", fontsize=20)"
      ],
      "execution_count": 208,
      "outputs": [
        {
          "output_type": "stream",
          "name": "stdout",
          "text": [
            "[[2.3570226  0.94280904]\n",
            " [1.79505494 1.79505494]]\n"
          ]
        },
        {
          "output_type": "execute_result",
          "data": {
            "text/plain": [
              "Text(0.5, 1.0, 'Inverse of Eigenvectors of A')"
            ]
          },
          "metadata": {},
          "execution_count": 208
        },
        {
          "output_type": "display_data",
          "data": {
            "image/png": "[encoded data removed]",
            "text/plain": [
              "<Figure size 432x288 with 1 Axes>"
            ]
          },
          "metadata": {
            "needs_background": "light"
          }
        }
      ]
    },
    {
      "cell_type": "code",
      "metadata": {
        "colab": {
          "base_uri": "https://localhost:8080/"
        },
        "id": "NliNG_6c--ag",
        "outputId": "048ba601-0abf-460d-de59-47ca9a459e54"
      },
      "source": [
        "Lambda = np.diag(lambdas)\n",
        "Lambda"
      ],
      "execution_count": 204,
      "outputs": [
        {
          "output_type": "execute_result",
          "data": {
            "text/plain": [
              "array([[ 2.,  0.],\n",
              "       [ 0., -1.]])"
            ]
          },
          "metadata": {},
          "execution_count": 204
        }
      ]
    },
    {
      "cell_type": "code",
      "metadata": {
        "colab": {
          "base_uri": "https://localhost:8080/"
        },
        "id": "dK5Ng3xA--UZ",
        "outputId": "7278b5c6-84cc-4dae-9e94-4c7c10da24af"
      },
      "source": [
        "np.dot(V, np.dot(Lambda, V_inv))"
      ],
      "execution_count": 205,
      "outputs": [
        {
          "output_type": "execute_result",
          "data": {
            "text/plain": [
              "array([[ 4.,  2.],\n",
              "       [-5., -3.]])"
            ]
          },
          "metadata": {},
          "execution_count": 205
        }
      ]
    },
    {
      "cell_type": "markdown",
      "metadata": {
        "id": "lQkmKXqJl5OH"
      },
      "source": [
        "# Plotting vector function"
      ]
    },
    {
      "cell_type": "code",
      "metadata": {
        "id": "hepwX7UEl8gU"
      },
      "source": [
        "# modified from plot_vectors by Hadrien Jean\n",
        "\n",
        "def plot_vectors(vectors, values_in=\"label\", figsize=None):\n",
        "    \"\"\"\n",
        "    Arguments\n",
        "\n",
        "    vectros: a list of vectors. Pass it in in square brackets[] even when plotting just a single vector.\n",
        "    values_in : the vector values will be labeled around the vector's arround head. \n",
        "                if you want to corner the values as a legend, you can pass in values_in=\"legend\".\n",
        "    figsize : custom size for plot figure\n",
        "\n",
        "    -----------\n",
        "\n",
        "    1) This plotter sets the xlim and ylim automatically. The limit is always |1| off the min or max input value.\n",
        "    2) It chooses the colour for the vector arror automatically everytime you call it. \n",
        "    3) ** for future improvement**: totally random combination of colours sometimes is not highly reliable approach to visualie elements. \n",
        "        This is due to the degree of contrast. The random colour choice must be refined to randomly choose highly contrastive combinations each time.\n",
        "    \"\"\"\n",
        "\n",
        "    colors = [\"lightcoral\", \"indianred\", \"brown\", \"firebrick\", \"olive\", \"darkslategrey\", \n",
        "              \"teal\", \"darkcyan\", \"lightblue\", \"blue\", \"purple\", \"mediumvioletred\", \n",
        "              \"green\", \"darkgreen\", \"forestgreen\", \"slategrey\", \"cornflowerblue\", \n",
        "              \"royalblue\", \"midnightblue\", \"navy\", \"darkorchid\", \"tomato\", \"coral\", \n",
        "              \"maroon\", \"darkred\", \"darkgoldenrod\", \"darkorange\"]\n",
        "    if (figsize==None):\n",
        "        plt.figure()\n",
        "    else:\n",
        "        plt.figure(figsize=figsize)\n",
        "    plt.axvline(x=0, color='lightgray', label='Origin')\n",
        "    plt.axhline(y=0, color='lightgray')\n",
        "\n",
        "    for vector in vectors:\n",
        "        x = np.concatenate([[0,0],vector])\n",
        "\n",
        "        rounded_vector = [np.round(value, 3) for value in vector]\n",
        "\n",
        "        plt.quiver([x[0]], [x[1]], [x[2]], [x[3]],\n",
        "                   angles='xy', scale_units='xy', scale=1, color=colors[random.randint(0, len(colors))], label=f'{rounded_vector}')    \n",
        "    \n",
        "        if (values_in == \"label\"):        \n",
        "            plt.annotate(str(rounded_vector), xy=(vector[0] + 0.25, vector[1] + 0.25), ha='center', va='top', c='black', fontsize=13)\n",
        "        elif (values_in == \"legend\"):\n",
        "            plt.legend()\n",
        "\n",
        "\n",
        "    # sets the xlim and ylim automatically.\n",
        "    flat_x = []\n",
        "    flat_y = []\n",
        "    for vector in vectors:\n",
        "        flat_x.append(vector[0])\n",
        "        flat_y.append(vector[1])\n",
        "\n",
        "    max_x = np.max(flat_x)\n",
        "    min_x = np.min(flat_x)\n",
        "    max_y = np.max(flat_y)\n",
        "    min_y = np.min(flat_y)\n",
        "\n",
        "    if (max_x <= 0):\n",
        "        plt.xlim(min_x - 1, 1)\n",
        "    elif (min_x >= 0):\n",
        "        plt.xlim(-1, max_x + 1)\n",
        "    else: \n",
        "        plt.xlim(min_x - 1, max_x + 1)\n",
        "\n",
        "    if (max_y <= 0):\n",
        "        plt.ylim(min_y - 1, 1)\n",
        "    elif (min_y >= 0):\n",
        "        plt.ylim(-1, max_y + 1)\n",
        "    else:\n",
        "        plt.ylim(min_y - 1, max_y + 1)"
      ],
      "execution_count": 207,
      "outputs": []
    }
  ]
}