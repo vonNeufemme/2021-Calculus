{
  "nbformat": 4,
  "nbformat_minor": 0,
  "metadata": {
    "colab": {
      "name": "LA Free Exploration into the nature of matrices.ipynb",
      "provenance": [],
      "collapsed_sections": []
    },
    "kernelspec": {
      "name": "python3",
      "display_name": "Python 3"
    },
    "language_info": {
      "name": "python"
    }
  },
  "cells": [
    {
      "cell_type": "markdown",
      "metadata": {
        "id": "Tjkzkhvh9Cwr"
      },
      "source": [
        "# Free Exploration into the nature of matrices\n",
        "\n",
        "\n"
      ]
    },
    {
      "cell_type": "markdown",
      "metadata": {
        "id": "_fsNx9g26qiG"
      },
      "source": [
        "## Concepts covered\n",
        "- Tensors\n",
        "  - scalar\n",
        "  - vector\n",
        "  - matrix\n",
        "  - n-tensor\n",
        "- Transposition\n",
        "- Norm\n",
        "- Hadamard product\n",
        "- Dot product   \n",
        "\n",
        "<br/>  \n",
        "\n",
        "- Matrices\n",
        "  - Multiplication\n",
        "  - Symmetric\n",
        "  - Identity\n",
        "  - $||X||_F$\n",
        "  - Inversion\n",
        "  - Orthogonal\n",
        "  - $Tr(X)$\n",
        "  - Eigenvector & eigenvalue\n",
        "  - $det(X)$\n",
        "  \n",
        "<br/>  \n",
        "\n",
        "- ML applications\n",
        "  - SVD\n",
        "  - MPP\n",
        "  - PCA"
      ]
    },
    {
      "cell_type": "code",
      "metadata": {
        "id": "8iwYhF3Br_n5"
      },
      "source": [
        "import numpy as np\n",
        "import torch\n",
        "import tensorflow as tf\n",
        "import matplotlib.pyplot as plt"
      ],
      "execution_count": null,
      "outputs": []
    },
    {
      "cell_type": "markdown",
      "metadata": {
        "id": "6ceR1pCUrSJq"
      },
      "source": [
        "# Trace operator \n",
        "Source code here: https://github.com/jonkrohn/ML-foundations/blob/master/notebooks/2-linear-algebra-ii.ipynb\n",
        "\n",
        "Denoted as Tr($A$). Simply the sum of the diagonal elements of a matrix:$$\\sum_i A_{i,i}$$"
      ]
    },
    {
      "cell_type": "markdown",
      "metadata": {
        "id": "Lxe9NwTIrfEI"
      },
      "source": [
        "The trace operator has a number of useful properties that come in handy while rearranging linear algebra equations, e.g.:\n",
        "\n",
        "Tr($A$) = Tr($A^T$)\n",
        "Assuming the matrix shapes line up: Tr($ABC$) = Tr($CAB$) = Tr($BCA$)\n",
        "In particular, the trace operator can provide a convenient way to calculate a matrix's Frobenius norm:$$||A||_F = \\sqrt{\\mathrm{Tr}(AA^\\mathrm{T})}$$\n",
        "\n",
        "Exercises\n",
        "\n",
        "With the matrix A_p provided below:\n",
        "\n",
        "Use the PyTorch trace method to calculate the trace of A_p.\n",
        "Use the PyTorch Frobenius norm method and the trace method to demonstrate that $||A||_F = \\sqrt{\\mathrm{Tr}(AA^\\mathrm{T})}$"
      ]
    },
    {
      "cell_type": "markdown",
      "metadata": {
        "id": "KEYSR17OrwWC"
      },
      "source": [
        "## Exercises\n",
        "\n",
        "With the matrix A_p provided below:\n",
        "\n",
        "Use the PyTorch trace method to calculate the trace of A_p.  \n",
        "Use the PyTorch Frobenius norm method and the trace method to demonstrate that $||A||_F = \\sqrt{\\mathrm{Tr}(AA^\\mathrm{T})}$"
      ]
    },
    {
      "cell_type": "code",
      "metadata": {
        "id": "Q7dyLNnGref5"
      },
      "source": [
        "A_p = torch.tensor([[-1.,  2.], [ 3., -2.], [ 5.,  7.]])"
      ],
      "execution_count": null,
      "outputs": []
    },
    {
      "cell_type": "code",
      "metadata": {
        "colab": {
          "base_uri": "https://localhost:8080/"
        },
        "id": "qi73XQPdr5SV",
        "outputId": "9a4a7fe2-646c-4def-c73c-2f7226a3af4f"
      },
      "source": [
        "A_p_tr = torch.trace(A_p)\n",
        "A_p_tr"
      ],
      "execution_count": null,
      "outputs": [
        {
          "output_type": "execute_result",
          "data": {
            "text/plain": [
              "tensor(-3.)"
            ]
          },
          "metadata": {},
          "execution_count": 12
        }
      ]
    },
    {
      "cell_type": "code",
      "metadata": {
        "colab": {
          "base_uri": "https://localhost:8080/"
        },
        "id": "sZRj6_u_tEBy",
        "outputId": "359790a7-18c5-4e32-b166-dcbd71ae4875"
      },
      "source": [
        "A_AT = torch.tensor(np.dot(A_p, A_p.T))\n",
        "print('A_AT', A_AT)\n",
        "\n",
        "A_AT_tr = torch.trace(A_AT)\n",
        "A_AT_tr"
      ],
      "execution_count": null,
      "outputs": [
        {
          "output_type": "stream",
          "name": "stdout",
          "text": [
            "A_AT tensor([[ 5., -7.,  9.],\n",
            "        [-7., 13.,  1.],\n",
            "        [ 9.,  1., 74.]])\n"
          ]
        },
        {
          "output_type": "execute_result",
          "data": {
            "text/plain": [
              "tensor(92.)"
            ]
          },
          "metadata": {},
          "execution_count": 17
        }
      ]
    },
    {
      "cell_type": "code",
      "metadata": {
        "colab": {
          "base_uri": "https://localhost:8080/"
        },
        "id": "lSh6sbzcsbUF",
        "outputId": "18056df6-d668-4605-98a3-f08af2462058"
      },
      "source": [
        "# oneliner: A_f = np.sqrt(torch.trace(torch.tensor(np.dot(A_p, A_p.T))))\n",
        "\n",
        "A_fro = np.sqrt(A_AT_tr)\n",
        "A_fro"
      ],
      "execution_count": null,
      "outputs": [
        {
          "output_type": "execute_result",
          "data": {
            "text/plain": [
              "tensor(9.5917)"
            ]
          },
          "metadata": {},
          "execution_count": 18
        }
      ]
    },
    {
      "cell_type": "code",
      "metadata": {
        "colab": {
          "base_uri": "https://localhost:8080/"
        },
        "id": "U6ejNy1Tsxpm",
        "outputId": "27fb3c8a-903a-4a24-8327-dbba9b45144e"
      },
      "source": [
        "torch.norm(A_p, p='fro')"
      ],
      "execution_count": null,
      "outputs": [
        {
          "output_type": "execute_result",
          "data": {
            "text/plain": [
              "tensor(9.5917)"
            ]
          },
          "metadata": {},
          "execution_count": 11
        }
      ]
    },
    {
      "cell_type": "markdown",
      "metadata": {
        "id": "n1005xEHCoEF"
      },
      "source": [
        "## Orthogonal Matrix\n",
        "\n",
        "A square matrix with real numbers or elements is said to be an orthogonal matrix, if its transpose is equal to its inverse matrix. Or we can say, when the product of a square matrix and its transpose gives an identity matrix, then the square matrix is known as an orthogonal matrix.  \n",
        "\n",
        "When we say two vectors are orthogonal, we mean that they are perpendicular or form a right angle. Now when we solve these vectors with the help of matrices, they produce a square matrix, whose number of rows and columns are equal. (https://byjus.com/maths/orthogonal-matrix/).\n",
        "\n",
        "- Orthogonal transformations will be used to **introduce 0s into the matrix**.\n",
        "- Initial transformations put 0s to the first row and then the first column.  "
      ]
    },
    {
      "cell_type": "markdown",
      "metadata": {
        "id": "eKCimBTK-TM-"
      },
      "source": [
        "## Inverse Matrix \n",
        "\n",
        "$AA^{-1} = I$\n",
        "\n",
        "So I was asking, why the heck do we need an inverse of a blooy $matrix$...!?\n",
        "\n",
        "<br />\n",
        "\n",
        "And I finally stumbled upno the answer purely by chance. \n",
        "And as always is the case with life's hardest problems, the answer was simple: \n",
        "because then we can do arithematic operations more easily. The inverse helps matrices to freely move around, change positions, change side (from the left side to the right of the equal sign, vice versa).\n",
        "\n",
        "<br /> \n",
        "\n",
        "You love travelling so much, move from places to places, go places see things. So don't blame matrices for their inclination to move around sides. When they do it, you can scale up and down the matrix elements and then beautiful things can happen. \n",
        "\n",
        "----------------------\n",
        "The easy logic: all numbers have their own reciprocals. For instance, 10's repiprocal is $\\frac{1}{10}$, 15.3's $\\frac{1}{15.3}$, and so on...   \n",
        "  $X \\times \\frac{1}{X} = 1$ \n",
        "  - Essentially, the reciprocal of a number $X$ decomposes $X$ into 1, which can be absorbed to any factor it is multiplied by in the multiplication world.\n",
        "  - And in the math world, this means the number can move, or is moving. \n",
        "  - And in the matrix world, it means that matrices can move around too!\n",
        "  $XA = B$   \n",
        "  $XAA^{-1} = BA^{-1}$   \n",
        "  $X = BA^{-1}$ &emsp;&emsp;&emsp; $\\leftarrow$ $A$ changed side here!\n",
        "    - Just the thing is that every pure world loves its own lingo. So a reciprocal is called an $inverse$ and notated as $X^{-1}$. \n",
        "\n",
        "\n",
        "\n",
        "\n",
        "\n",
        "\n"
      ]
    },
    {
      "cell_type": "markdown",
      "metadata": {
        "id": "VmqpytBl9P6H"
      },
      "source": [
        "## Matrix symmetry\n",
        "- Symmetric matrix is symmetric about the diagonal. This is to say that the $mirror$ $images$ of the matrix are the same.  \n",
        "  $A^T = A$\n",
        "  - $A_{ij} = A_{ji}$ for all values of $i$ and $j$.\n",
        "- Skew-symmetric matrix. The absolute values of the matrix elements are symmetric about the diagonal. But when you flip it 180 degrees (a.k.a. transpose), the positive / negative signs will be switched.   \n",
        "  $A^T = -A$\n",
        "\n",
        "$A^TA$ is symmetric.\n",
        "- For a matrix * matrix.T to be symmetric, does that matrix have to be square?\n"
      ]
    },
    {
      "cell_type": "markdown",
      "metadata": {
        "id": "Fc-_CZSqpYaw"
      },
      "source": [
        "# Eigendecomposition\n",
        "![EngMath_Matrix_EigenDecomposition_02.png](data:image/png;base64,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)  \n",
        "[image from ShareTechnotes](https://www.sharetechnote.com/html/Handbook_EngMath_Matrix_EigenDecomposition.html)"
      ]
    },
    {
      "cell_type": "markdown",
      "metadata": {
        "id": "rCE5sZHn9Lzf"
      },
      "source": [
        "## Singular Vector Decomposition\n",
        "\n",
        "* Remember. **Singular matrices are NOT immediately visible. They are NOT visually intuitive.** You should go through some formulaic computation to determine whether that sneaky spy is a singular matrix of not.\n",
        "\n",
        "$A$ input data matrix   \n",
        "  - $m \\times n$ matrix   \n",
        "\n",
        "  $A_{m \\times n} = U_{m \\times r} \\sum_{r \\times r} (V_{n \\times r})^T$    \n",
        "\n",
        "  - $\\sum$ : singular values  \n",
        "    - $r \\times r$ diagonal matrix (strength of each 'concept')  \n",
        "      ($r$: rank of the matrix $A$)  "
      ]
    },
    {
      "cell_type": "markdown",
      "metadata": {
        "id": "alWD4obzECkc"
      },
      "source": [
        "# $See$ $it$ for yourself."
      ]
    },
    {
      "cell_type": "markdown",
      "metadata": {
        "id": "fwIo25tzEGpV"
      },
      "source": [
        "## Singular Value Decomposition\n",
        "- Stochastic (2020) What is the Singular Value Decomposition? https://www.youtube.com/watch?v=CpD9XlTu3ys&ab_channel=Stochastic\n",
        "\n",
        "<br /> \n",
        "\n",
        "- Cleve Moler (2012) 1976 Matrix Singular Value Decomposition Film https://www.youtube.com/watch?v=R9UoFyqJca8&ab_channel=CleveMoler\n",
        "\n",
        "\"a matrix is a table of numbers which describes the relationships between the components of various kinds of systems -- the system might be a bridge an electrical circuit a nuclear power reactor or a sociological group. Each of the components of the system the bridge struts the resistors and capacitors the neutrons or the individual people interact with the other components. **The matrix elements represent the intensities of all these interactions**.\"  \n",
        "\" analysis of the system using matrix techniques allows one **to predict the effective individual interactions on the overall system**.\"\n",
        "\n",
        "<br /> \n",
        "\n",
        "- Artificial Intelligence - All in One (2016) Lecture 47 — Singular Value Decomposition | Stanford University https://www.youtube.com/watch?v=P5mlg91as1c&ab_channel=ArtificialIntelligence-AllinOne"
      ]
    },
    {
      "cell_type": "markdown",
      "metadata": {
        "id": "gYqoYtN0manJ"
      },
      "source": [
        "# PCA\n",
        "\n",
        "우물안 개구리 (2020) Another approach to iris PCA https://enjoyso.tistory.com/104\n",
        "다크 프로그래머 (2013) Eigenvectors and Eigenvalues https://darkpgmr.tistory.com/105"
      ]
    }
  ]
}
