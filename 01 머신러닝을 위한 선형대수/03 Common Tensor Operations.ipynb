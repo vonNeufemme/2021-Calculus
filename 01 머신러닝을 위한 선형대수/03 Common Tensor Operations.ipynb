{
  "nbformat": 4,
  "nbformat_minor": 0,
  "metadata": {
    "colab": {
      "name": "03 Common Tensor Operations.ipynb",
      "provenance": [],
      "collapsed_sections": [],
      "toc_visible": true
    },
    "kernelspec": {
      "name": "python3",
      "display_name": "Python 3"
    },
    "language_info": {
      "name": "python"
    }
  },
  "cells": [
    {
      "cell_type": "markdown",
      "metadata": {
        "id": "2LlkCWQMjx8V"
      },
      "source": [
        "# Common Tensor Operations"
      ]
    },
    {
      "cell_type": "code",
      "metadata": {
        "id": "5-D_bIM1lWRe"
      },
      "source": [
        "import numpy as np\n",
        "import matplotlib.pyplot as plt\n",
        "import torch\n",
        "import tensorflow as tf"
      ],
      "execution_count": 3,
      "outputs": []
    },
    {
      "cell_type": "markdown",
      "metadata": {
        "id": "fzjLofo_j_Bo"
      },
      "source": [
        "## 3.1 Tensor Transposition\n",
        "- Transpose of scalar is itself. e.g.: xT = x\n",
        "- Transpose of vector convers column to row.\n",
        "- **Scalar and vector transposition** are special cases of **matrix transposition**.\n",
        "    - Flip of axes over main diagonal such that:  \n",
        "        ```(X_T)i,j = X_j,i```"
      ]
    },
    {
      "cell_type": "code",
      "metadata": {
        "colab": {
          "base_uri": "https://localhost:8080/"
        },
        "id": "j_-8gMNhjwym",
        "outputId": "f5c2fbd5-1321-468b-baf2-997237a8e517"
      },
      "source": [
        "# numpy array\n",
        "X = np.array([[25, 2], [2, 32], [9, 10]])\n",
        "X"
      ],
      "execution_count": 5,
      "outputs": [
        {
          "output_type": "execute_result",
          "data": {
            "text/plain": [
              "array([[25,  2],\n",
              "       [ 2, 32],\n",
              "       [ 9, 10]])"
            ]
          },
          "metadata": {},
          "execution_count": 5
        }
      ]
    },
    {
      "cell_type": "code",
      "metadata": {
        "colab": {
          "base_uri": "https://localhost:8080/"
        },
        "id": "YfLVWG3SlQLW",
        "outputId": "6a477f8e-30b4-4634-b275-21ec54f85345"
      },
      "source": [
        "X.T"
      ],
      "execution_count": 4,
      "outputs": [
        {
          "output_type": "execute_result",
          "data": {
            "text/plain": [
              "array([[25,  2,  9],\n",
              "       [ 2, 32, 10]])"
            ]
          },
          "metadata": {},
          "execution_count": 4
        }
      ]
    },
    {
      "cell_type": "code",
      "metadata": {
        "colab": {
          "base_uri": "https://localhost:8080/"
        },
        "id": "tj31bcNglcVD",
        "outputId": "ddaa3604-08e1-49ff-e2da-78f02c808405"
      },
      "source": [
        "# PyTorch\n",
        "X_pt = torch.tensor([[25, 2], [2, 32], [9, 10]])\n",
        "X_pt"
      ],
      "execution_count": 11,
      "outputs": [
        {
          "output_type": "execute_result",
          "data": {
            "text/plain": [
              "tensor([[25,  2],\n",
              "        [ 2, 32],\n",
              "        [ 9, 10]])"
            ]
          },
          "metadata": {},
          "execution_count": 11
        }
      ]
    },
    {
      "cell_type": "code",
      "metadata": {
        "colab": {
          "base_uri": "https://localhost:8080/"
        },
        "id": "ZY-jaIj1li17",
        "outputId": "5c6d66dc-02c5-44dd-d960-afe135c70d8c"
      },
      "source": [
        "X_pt.T"
      ],
      "execution_count": 7,
      "outputs": [
        {
          "output_type": "execute_result",
          "data": {
            "text/plain": [
              "tensor([[25,  2,  9],\n",
              "        [ 2, 32, 10]])"
            ]
          },
          "metadata": {},
          "execution_count": 7
        }
      ]
    },
    {
      "cell_type": "code",
      "metadata": {
        "colab": {
          "base_uri": "https://localhost:8080/"
        },
        "id": "yRMlgzSZljrl",
        "outputId": "df6af53b-de7f-4df7-a1e0-6240a3061b9e"
      },
      "source": [
        "# tensorflow\n",
        "X_tf = tf.constant([[25, 2], [2, 32], [9, 10]])\n",
        "print(X_tf)\n",
        "X_tf = tf.transpose(X_tf)\n",
        "print(X_tf)"
      ],
      "execution_count": 14,
      "outputs": [
        {
          "output_type": "stream",
          "name": "stdout",
          "text": [
            "tf.Tensor(\n",
            "[[25  2]\n",
            " [ 2 32]\n",
            " [ 9 10]], shape=(3, 2), dtype=int32)\n",
            "tf.Tensor(\n",
            "[[25  2  9]\n",
            " [ 2 32 10]], shape=(2, 3), dtype=int32)\n"
          ]
        }
      ]
    },
    {
      "cell_type": "markdown",
      "metadata": {
        "id": "HDWPwEXYFPbV"
      },
      "source": [
        "##3.2 Basic Tensor Arithmetic"
      ]
    },
    {
      "cell_type": "markdown",
      "metadata": {
        "id": "3b6nwj7NF8qI"
      },
      "source": [
        "### NumPy"
      ]
    },
    {
      "cell_type": "code",
      "metadata": {
        "colab": {
          "base_uri": "https://localhost:8080/"
        },
        "id": "mz-IrqpVFlfQ",
        "outputId": "afdc7123-fefe-463d-9104-0a6dfbfd2934"
      },
      "source": [
        "X"
      ],
      "execution_count": 8,
      "outputs": [
        {
          "output_type": "execute_result",
          "data": {
            "text/plain": [
              "array([[25,  2],\n",
              "       [ 2, 32],\n",
              "       [ 9, 10]])"
            ]
          },
          "metadata": {},
          "execution_count": 8
        }
      ]
    },
    {
      "cell_type": "code",
      "metadata": {
        "colab": {
          "base_uri": "https://localhost:8080/"
        },
        "id": "NLR8F0KjFbw-",
        "outputId": "2447b645-3b37-4f30-d8e3-a2d19f90f7bb"
      },
      "source": [
        "X+2"
      ],
      "execution_count": 7,
      "outputs": [
        {
          "output_type": "execute_result",
          "data": {
            "text/plain": [
              "array([[27,  4],\n",
              "       [ 4, 34],\n",
              "       [11, 12]])"
            ]
          },
          "metadata": {},
          "execution_count": 7
        }
      ]
    },
    {
      "cell_type": "code",
      "metadata": {
        "colab": {
          "base_uri": "https://localhost:8080/"
        },
        "id": "AhBH-hhKFUCF",
        "outputId": "6eb14805-a5f0-44c5-8c5c-d7cb3bd78964"
      },
      "source": [
        "X*2"
      ],
      "execution_count": 6,
      "outputs": [
        {
          "output_type": "execute_result",
          "data": {
            "text/plain": [
              "array([[50,  4],\n",
              "       [ 4, 64],\n",
              "       [18, 20]])"
            ]
          },
          "metadata": {},
          "execution_count": 6
        }
      ]
    },
    {
      "cell_type": "code",
      "metadata": {
        "colab": {
          "base_uri": "https://localhost:8080/"
        },
        "id": "nWGJNNS2FkI3",
        "outputId": "0896edeb-1cd7-441c-ed37-812a4c17fc9a"
      },
      "source": [
        "X*2 +2"
      ],
      "execution_count": 9,
      "outputs": [
        {
          "output_type": "execute_result",
          "data": {
            "text/plain": [
              "array([[52,  6],\n",
              "       [ 6, 66],\n",
              "       [20, 22]])"
            ]
          },
          "metadata": {},
          "execution_count": 9
        }
      ]
    },
    {
      "cell_type": "markdown",
      "metadata": {
        "id": "ADGZnwIIF6bv"
      },
      "source": [
        "### PyTorch\n",
        "- ```torch.add()```\n",
        "- ```torch.mul(multiplicand, multiplier)```"
      ]
    },
    {
      "cell_type": "code",
      "metadata": {
        "colab": {
          "base_uri": "https://localhost:8080/"
        },
        "id": "JtnHtSa5FwMR",
        "outputId": "b8fc6af7-7e5f-45e9-ccb5-b8fb7e40499e"
      },
      "source": [
        "X_pt + 2 "
      ],
      "execution_count": 12,
      "outputs": [
        {
          "output_type": "execute_result",
          "data": {
            "text/plain": [
              "tensor([[27,  4],\n",
              "        [ 4, 34],\n",
              "        [11, 12]])"
            ]
          },
          "metadata": {},
          "execution_count": 12
        }
      ]
    },
    {
      "cell_type": "code",
      "metadata": {
        "colab": {
          "base_uri": "https://localhost:8080/"
        },
        "id": "F7cMJVTtGE13",
        "outputId": "7e889805-9eb6-4340-9775-9c17e5cf53ad"
      },
      "source": [
        "X_pt * 2"
      ],
      "execution_count": 13,
      "outputs": [
        {
          "output_type": "execute_result",
          "data": {
            "text/plain": [
              "tensor([[50,  4],\n",
              "        [ 4, 64],\n",
              "        [18, 20]])"
            ]
          },
          "metadata": {},
          "execution_count": 13
        }
      ]
    },
    {
      "cell_type": "code",
      "metadata": {
        "colab": {
          "base_uri": "https://localhost:8080/"
        },
        "id": "c86wGOH7GGeU",
        "outputId": "e485967b-c74b-4cca-80b2-728b6fcada0f"
      },
      "source": [
        "X_pt * 2 + 2"
      ],
      "execution_count": 14,
      "outputs": [
        {
          "output_type": "execute_result",
          "data": {
            "text/plain": [
              "tensor([[52,  6],\n",
              "        [ 6, 66],\n",
              "        [20, 22]])"
            ]
          },
          "metadata": {},
          "execution_count": 14
        }
      ]
    },
    {
      "cell_type": "code",
      "metadata": {
        "colab": {
          "base_uri": "https://localhost:8080/"
        },
        "id": "9XKHmRo3GIgv",
        "outputId": "674e0344-9492-46ba-91b5-b4279bcec25e"
      },
      "source": [
        "# Alternatively:\n",
        "torch.add(torch.mul(X_pt, 2), 2)"
      ],
      "execution_count": 15,
      "outputs": [
        {
          "output_type": "execute_result",
          "data": {
            "text/plain": [
              "tensor([[52,  6],\n",
              "        [ 6, 66],\n",
              "        [20, 22]])"
            ]
          },
          "metadata": {},
          "execution_count": 15
        }
      ]
    },
    {
      "cell_type": "markdown",
      "metadata": {
        "id": "vfRBqA_YGrkR"
      },
      "source": [
        "### Tensorflow\n",
        "- ```tf.add()```\n",
        "- ```tf.multiply(multiplicand, multiplier)```"
      ]
    },
    {
      "cell_type": "code",
      "metadata": {
        "colab": {
          "base_uri": "https://localhost:8080/"
        },
        "id": "RO0Bg-VqGxak",
        "outputId": "acfab884-6a19-4211-9c0c-3f94883eb3a9"
      },
      "source": [
        "tf.add(X, 2)"
      ],
      "execution_count": 16,
      "outputs": [
        {
          "output_type": "execute_result",
          "data": {
            "text/plain": [
              "<tf.Tensor: shape=(3, 2), dtype=int64, numpy=\n",
              "array([[27,  4],\n",
              "       [ 4, 34],\n",
              "       [11, 12]])>"
            ]
          },
          "metadata": {},
          "execution_count": 16
        }
      ]
    },
    {
      "cell_type": "code",
      "metadata": {
        "colab": {
          "base_uri": "https://localhost:8080/"
        },
        "id": "JZlm-JCtHVqa",
        "outputId": "85e19df6-0efa-4c06-de9e-330bd18665e9"
      },
      "source": [
        "tf.multiply(X,2)"
      ],
      "execution_count": 17,
      "outputs": [
        {
          "output_type": "execute_result",
          "data": {
            "text/plain": [
              "<tf.Tensor: shape=(3, 2), dtype=int64, numpy=\n",
              "array([[50,  4],\n",
              "       [ 4, 64],\n",
              "       [18, 20]])>"
            ]
          },
          "metadata": {},
          "execution_count": 17
        }
      ]
    },
    {
      "cell_type": "code",
      "metadata": {
        "colab": {
          "base_uri": "https://localhost:8080/"
        },
        "id": "T7VaSAKDHYNN",
        "outputId": "2d180b27-1c94-42cf-c74f-27a4f45742d8"
      },
      "source": [
        "tf.add(tf.multiply(X,2),2)"
      ],
      "execution_count": 18,
      "outputs": [
        {
          "output_type": "execute_result",
          "data": {
            "text/plain": [
              "<tf.Tensor: shape=(3, 2), dtype=int64, numpy=\n",
              "array([[52,  6],\n",
              "       [ 6, 66],\n",
              "       [20, 22]])>"
            ]
          },
          "metadata": {},
          "execution_count": 18
        }
      ]
    },
    {
      "cell_type": "markdown",
      "metadata": {
        "id": "PlJJyBKcHwzc"
      },
      "source": [
        "### Element-wise product\n",
        "- ```tf.multiply(vector1, vector2)```\n",
        "\n",
        "------------\n",
        "If two tensors have the same size, operations are often by default applied element-wise; this is called the Hadamard product or simply the element-wise product.\n",
        "- ```A⊙X```\n",
        "\n",
        "\n",
        "In mathematics, the Hadamard product (also known as the element-wise product, entrywise product, or Schur product) is a binary operation that takes two matrices of the same dimensions and produces another matrix of the same dimension as the operands, where each element i, j is the product of elements i, j of the original two matrices.\n",
        "\n",
        "------------\n",
        "Produit matriciel de Hadamard"
      ]
    },
    {
      "cell_type": "code",
      "metadata": {
        "colab": {
          "base_uri": "https://localhost:8080/"
        },
        "id": "1A504WJsHarV",
        "outputId": "dc09f557-eaf5-41a4-f825-57abee8618bc"
      },
      "source": [
        "X"
      ],
      "execution_count": 19,
      "outputs": [
        {
          "output_type": "execute_result",
          "data": {
            "text/plain": [
              "array([[25,  2],\n",
              "       [ 2, 32],\n",
              "       [ 9, 10]])"
            ]
          },
          "metadata": {},
          "execution_count": 19
        }
      ]
    },
    {
      "cell_type": "code",
      "metadata": {
        "colab": {
          "base_uri": "https://localhost:8080/"
        },
        "id": "xBsXOvmqH_3d",
        "outputId": "c81f5c78-625c-472b-db56-057844fc888b"
      },
      "source": [
        "A = X + 2\n",
        "A"
      ],
      "execution_count": 21,
      "outputs": [
        {
          "output_type": "execute_result",
          "data": {
            "text/plain": [
              "array([[27,  4],\n",
              "       [ 4, 34],\n",
              "       [11, 12]])"
            ]
          },
          "metadata": {},
          "execution_count": 21
        }
      ]
    },
    {
      "cell_type": "code",
      "metadata": {
        "colab": {
          "base_uri": "https://localhost:8080/"
        },
        "id": "JQz5nbVpIBS1",
        "outputId": "0d25a23b-264e-41d9-8518-8fe9c70f25d0"
      },
      "source": [
        "A + X"
      ],
      "execution_count": 22,
      "outputs": [
        {
          "output_type": "execute_result",
          "data": {
            "text/plain": [
              "array([[52,  6],\n",
              "       [ 6, 66],\n",
              "       [20, 22]])"
            ]
          },
          "metadata": {},
          "execution_count": 22
        }
      ]
    },
    {
      "cell_type": "code",
      "metadata": {
        "colab": {
          "base_uri": "https://localhost:8080/"
        },
        "id": "SeCNn3KzIFR3",
        "outputId": "68139a8a-270b-4a99-dc18-3f7202e58a75"
      },
      "source": [
        "A * X"
      ],
      "execution_count": 23,
      "outputs": [
        {
          "output_type": "execute_result",
          "data": {
            "text/plain": [
              "array([[ 675,    8],\n",
              "       [   8, 1088],\n",
              "       [  99,  120]])"
            ]
          },
          "metadata": {},
          "execution_count": 23
        }
      ]
    },
    {
      "cell_type": "code",
      "metadata": {
        "colab": {
          "base_uri": "https://localhost:8080/"
        },
        "id": "erwb9M7lIGx_",
        "outputId": "8e1968da-43e3-45c3-d0fa-76b54429909c"
      },
      "source": [
        "A[0][0] * X[0][0]"
      ],
      "execution_count": 24,
      "outputs": [
        {
          "output_type": "execute_result",
          "data": {
            "text/plain": [
              "675"
            ]
          },
          "metadata": {},
          "execution_count": 24
        }
      ]
    },
    {
      "cell_type": "code",
      "metadata": {
        "colab": {
          "base_uri": "https://localhost:8080/"
        },
        "id": "wqRbtz7iIchR",
        "outputId": "b21f37a0-591a-402c-f382-fbab26a7ec81"
      },
      "source": [
        "A[1][1] * X[1][1]"
      ],
      "execution_count": 25,
      "outputs": [
        {
          "output_type": "execute_result",
          "data": {
            "text/plain": [
              "1088"
            ]
          },
          "metadata": {},
          "execution_count": 25
        }
      ]
    },
    {
      "cell_type": "code",
      "metadata": {
        "colab": {
          "base_uri": "https://localhost:8080/"
        },
        "id": "BEzzuixrI-k0",
        "outputId": "199ffc1d-95cf-47f4-eff3-b76fe89cad34"
      },
      "source": [
        "A[2][0] * X[2][0]"
      ],
      "execution_count": 26,
      "outputs": [
        {
          "output_type": "execute_result",
          "data": {
            "text/plain": [
              "99"
            ]
          },
          "metadata": {},
          "execution_count": 26
        }
      ]
    },
    {
      "cell_type": "markdown",
      "metadata": {
        "id": "j4HgQaKtIakP"
      },
      "source": [
        "## 3.3 Reduction\n",
        "\n",
        "Row reduction (or Gaussian elimination) is the process of using row operations to reduce a matrix to row reduced echelon form. This procedure is used to solve systems of linear equations, invert matrices, compute determinants, and do many other things ([Millersville edu](https://sites.millersville.edu/bikenaga/linear-algebra/row-reduction/row-reduction.html)).\n",
        "\n",
        "\n",
        "Calculating the sum across all elements of a tensor is a common operation. For example: \n",
        "\n",
        "* For vector ***x*** of length *n*, we calculate $\\sum_{i=1}^{n} x_i$\n",
        "* For matrix ***X*** with *m* by *n* dimensions, we calculate $\\sum_{i=1}^{m} \\sum_{j=1}^{n} X_{i,j}$\n",
        "\n",
        "------------\n",
        "- torch.sum()\n",
        "- tf.reduce_sum()\n",
        "- x.sum(axis=0)"
      ]
    },
    {
      "cell_type": "code",
      "metadata": {
        "colab": {
          "base_uri": "https://localhost:8080/"
        },
        "id": "eTrART7TJQQM",
        "outputId": "88f91353-1dcb-4ac8-b8c4-e5845a742380"
      },
      "source": [
        "X.sum()"
      ],
      "execution_count": 30,
      "outputs": [
        {
          "output_type": "execute_result",
          "data": {
            "text/plain": [
              "80"
            ]
          },
          "metadata": {},
          "execution_count": 30
        }
      ]
    },
    {
      "cell_type": "code",
      "metadata": {
        "colab": {
          "base_uri": "https://localhost:8080/"
        },
        "id": "azmF5pkDJbsI",
        "outputId": "a2bf70fa-cd1f-4b0a-cc5c-550a1734f228"
      },
      "source": [
        "torch.sum(X_pt)"
      ],
      "execution_count": 33,
      "outputs": [
        {
          "output_type": "execute_result",
          "data": {
            "text/plain": [
              "tensor(80)"
            ]
          },
          "metadata": {},
          "execution_count": 33
        }
      ]
    },
    {
      "cell_type": "code",
      "metadata": {
        "colab": {
          "base_uri": "https://localhost:8080/"
        },
        "id": "LKi2ZxoYJoZH",
        "outputId": "fbbcbc85-26e1-49b1-c142-dced57999556"
      },
      "source": [
        "X_tf = tf.constant([[27,  4],\n",
        "                    [ 4, 34],\n",
        "                    [11, 12]])\n",
        "\n",
        "axis0 = tf.reduce_sum(X_tf, 0)\n",
        "axis1 = tf.reduce_sum(X_tf, 1)\n",
        "\n",
        "axis0, axis1"
      ],
      "execution_count": 41,
      "outputs": [
        {
          "output_type": "execute_result",
          "data": {
            "text/plain": [
              "(<tf.Tensor: shape=(2,), dtype=int32, numpy=array([42, 50], dtype=int32)>,\n",
              " <tf.Tensor: shape=(3,), dtype=int32, numpy=array([31, 38, 23], dtype=int32)>)"
            ]
          },
          "metadata": {},
          "execution_count": 41
        }
      ]
    },
    {
      "cell_type": "code",
      "metadata": {
        "colab": {
          "base_uri": "https://localhost:8080/"
        },
        "id": "iqBGD7msLp5U",
        "outputId": "992ebfdc-70c9-4bed-c784-9494c2b741dd"
      },
      "source": [
        "X.sum(axis=0)"
      ],
      "execution_count": 38,
      "outputs": [
        {
          "output_type": "execute_result",
          "data": {
            "text/plain": [
              "array([36, 44])"
            ]
          },
          "metadata": {},
          "execution_count": 38
        }
      ]
    },
    {
      "cell_type": "markdown",
      "metadata": {
        "id": "GlSZMCKUOyjL"
      },
      "source": [
        "Many other operations can be applied with reduction along all or a selection of axes, e.g.:\n",
        "\n",
        "- maximum\n",
        "- minimum\n",
        "- mean\n",
        "- product"
      ]
    },
    {
      "cell_type": "markdown",
      "metadata": {
        "id": "zCLunHghOsF6"
      },
      "source": [
        "## 3.4 The Dot Product\n",
        "\n",
        "- ```np.dot(vector1, vector2, ... vector_n)```\n",
        "- ```torch.dot(vector1, vector2, ... vector_n)```\n",
        "\n",
        "If we have two vectors (say, ***x*** and ***y***) with *the same length n*, we can calculate the dot product between them. This is annotated several different ways, including the following: \n",
        "\n",
        "* $x \\cdot y$\n",
        "* $x^Ty$\n",
        "* $\\langle x,y \\rangle$\n",
        "\n",
        "Regardless the notation style, the calculation is the same; we calculate products in an element-wise fashion and then sum reductively across the products to a scalar value.\n",
        "- $x \\cdot y = \\sum_{i=1}^{n} x_i y_i$\n",
        "    - the reductive sum of element-wise products\n",
        "\n",
        "The dot product is ubiquitous in deep learning: It is performed at every artificial neuron in a deep neural network, which may be made up of millions (or orders of magnitude more) of these neurons."
      ]
    },
    {
      "cell_type": "code",
      "metadata": {
        "id": "UwaP9rWnNFfn"
      },
      "source": [
        "x = np.array([30, 6, 7])\n",
        "y = np.array([0, 8, 2])"
      ],
      "execution_count": 43,
      "outputs": []
    },
    {
      "cell_type": "code",
      "metadata": {
        "colab": {
          "base_uri": "https://localhost:8080/"
        },
        "id": "M3kZkYzZPrAz",
        "outputId": "7fc233dd-3d12-4fc7-ae46-ce642abac610"
      },
      "source": [
        "(30 * 0) + (6 * 8) + (7 * 2)"
      ],
      "execution_count": 44,
      "outputs": [
        {
          "output_type": "execute_result",
          "data": {
            "text/plain": [
              "62"
            ]
          },
          "metadata": {},
          "execution_count": 44
        }
      ]
    },
    {
      "cell_type": "markdown",
      "metadata": {
        "id": "CWmZ7zFpQMLi"
      },
      "source": [
        "### NumPy"
      ]
    },
    {
      "cell_type": "code",
      "metadata": {
        "colab": {
          "base_uri": "https://localhost:8080/"
        },
        "id": "CIFvSfG3QKAx",
        "outputId": "fd6fec91-2d89-461d-c76b-36564818eeaf"
      },
      "source": [
        "np.dot(x, y)"
      ],
      "execution_count": 45,
      "outputs": [
        {
          "output_type": "execute_result",
          "data": {
            "text/plain": [
              "62"
            ]
          },
          "metadata": {},
          "execution_count": 45
        }
      ]
    },
    {
      "cell_type": "markdown",
      "metadata": {
        "id": "gAw5aCo5QObl"
      },
      "source": [
        "### PyTorch"
      ]
    },
    {
      "cell_type": "code",
      "metadata": {
        "colab": {
          "base_uri": "https://localhost:8080/"
        },
        "id": "naZ8s-siQTas",
        "outputId": "a21c7009-16ee-40a9-bb08-c550ca124352"
      },
      "source": [
        "x_pt = torch.tensor(x)\n",
        "y_pt = torch.tensor(y)\n",
        "\n",
        "x_pt, y_pt"
      ],
      "execution_count": 51,
      "outputs": [
        {
          "output_type": "execute_result",
          "data": {
            "text/plain": [
              "(tensor([30,  6,  7]), tensor([0, 8, 2]))"
            ]
          },
          "metadata": {},
          "execution_count": 51
        }
      ]
    },
    {
      "cell_type": "code",
      "metadata": {
        "colab": {
          "base_uri": "https://localhost:8080/"
        },
        "id": "fT1RMjlvQLDn",
        "outputId": "98322d45-048c-488b-b02e-2e3bc0e531f3"
      },
      "source": [
        "torch.dot(x_pt, y_pt)"
      ],
      "execution_count": 52,
      "outputs": [
        {
          "output_type": "execute_result",
          "data": {
            "text/plain": [
              "tensor(62)"
            ]
          },
          "metadata": {},
          "execution_count": 52
        }
      ]
    },
    {
      "cell_type": "markdown",
      "metadata": {
        "id": "L4zK8_gIRJhn"
      },
      "source": [
        "### Tensorflow"
      ]
    },
    {
      "cell_type": "code",
      "metadata": {
        "id": "3f-hOAfIQwko"
      },
      "source": [
        "x_tf = tf.Variable(x)\n",
        "y_tf = tf.Variable(y)"
      ],
      "execution_count": 54,
      "outputs": []
    },
    {
      "cell_type": "code",
      "metadata": {
        "colab": {
          "base_uri": "https://localhost:8080/"
        },
        "id": "HO2LsqoLQ_vx",
        "outputId": "d834667d-7aec-4d3e-9fb4-ee60ef210ac9"
      },
      "source": [
        "print(tf.reduce_sum(tf.multiply(x, y)))\n",
        "tf.reduce_sum(tf.multiply(x_tf, y_tf))"
      ],
      "execution_count": 58,
      "outputs": [
        {
          "output_type": "stream",
          "name": "stdout",
          "text": [
            "tf.Tensor(62, shape=(), dtype=int64)\n"
          ]
        },
        {
          "output_type": "execute_result",
          "data": {
            "text/plain": [
              "<tf.Tensor: shape=(), dtype=int64, numpy=62>"
            ]
          },
          "metadata": {},
          "execution_count": 58
        }
      ]
    },
    {
      "cell_type": "markdown",
      "metadata": {
        "id": "JmMknT5zRZcV"
      },
      "source": [
        "# Exercises\n",
        "\n",
        "Key Concepts\n",
        "- Tensor\n",
        "    - Scalar\n",
        "    - Vector\n",
        "    - Matrix\n",
        "    - n-tensor\n",
        "- Transposition\n",
        "- Norm\n",
        "- Hadamard product\n",
        "- Dot product"
      ]
    },
    {
      "cell_type": "markdown",
      "metadata": {
        "id": "1zfLqmJ8TG2i"
      },
      "source": [
        "## 1) Transposition"
      ]
    },
    {
      "cell_type": "code",
      "metadata": {
        "colab": {
          "base_uri": "https://localhost:8080/"
        },
        "id": "Hsgept6mRHOY",
        "outputId": "42029526-f3b0-4f8d-82ca-aeb8de71a3df"
      },
      "source": [
        "# yT?\n",
        "y = np.array([[42, 4, 7, 99], [-99, -3, 17, 22]])\n",
        "y.T"
      ],
      "execution_count": 59,
      "outputs": [
        {
          "output_type": "execute_result",
          "data": {
            "text/plain": [
              "array([[ 42, -99],\n",
              "       [  4,  -3],\n",
              "       [  7,  17],\n",
              "       [ 99,  22]])"
            ]
          },
          "metadata": {},
          "execution_count": 59
        }
      ]
    },
    {
      "cell_type": "markdown",
      "metadata": {
        "id": "bfwOHahwTFFB"
      },
      "source": [
        "## 2) Hadamard Product"
      ]
    },
    {
      "cell_type": "code",
      "metadata": {
        "colab": {
          "base_uri": "https://localhost:8080/"
        },
        "id": "dAy7ejqzSWkV",
        "outputId": "1c4472d9-8471-4044-d9a0-b32848117121"
      },
      "source": [
        "# Hadamard product?\n",
        "a = np.array([[25, 10], [-2, 1]])\n",
        "b = np.array([[-1, 7], [10, 8]])\n",
        "\n",
        "ab = a * b\n",
        "ab_tf = tf.multiply(a, b)\n",
        "\n",
        "ab, ab_tf"
      ],
      "execution_count": 69,
      "outputs": [
        {
          "output_type": "execute_result",
          "data": {
            "text/plain": [
              "(array([[-25,  70],\n",
              "        [-20,   8]]), <tf.Tensor: shape=(2, 2), dtype=int64, numpy=\n",
              " array([[-25,  70],\n",
              "        [-20,   8]])>)"
            ]
          },
          "metadata": {},
          "execution_count": 69
        }
      ]
    },
    {
      "cell_type": "markdown",
      "metadata": {
        "id": "wz6SbiO_TmrL"
      },
      "source": [
        "## 3) Dot Product"
      ]
    },
    {
      "cell_type": "code",
      "metadata": {
        "colab": {
          "base_uri": "https://localhost:8080/"
        },
        "id": "WjOI7FBwSpan",
        "outputId": "e2145cb3-76c8-464c-8782-73f7e86e359f"
      },
      "source": [
        "w = np.array([-1, 2, -2])\n",
        "x = np.array([5, 10, 0])\n",
        "\n",
        "dot_np = np.dot(w, x)\n",
        "dot_pt = torch.dot(torch.tensor(w), torch.tensor(x))\n",
        "\n",
        "dot_np, dot_pt"
      ],
      "execution_count": 70,
      "outputs": [
        {
          "output_type": "execute_result",
          "data": {
            "text/plain": [
              "(15, tensor(15))"
            ]
          },
          "metadata": {},
          "execution_count": 70
        }
      ]
    }
  ]
}